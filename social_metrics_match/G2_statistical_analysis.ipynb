{
 "cells": [
  {
   "cell_type": "markdown",
   "metadata": {},
   "source": [
    "# Objective: Indentify which quantitative metrics are correlated (or well-predicted) with the human score in Likert scale. \n",
    "\n",
    "  - 1. ANOVA (variance analysis). Helps to verify whether the differences in the metric produce significant differences in the rating.\n",
    "  - 2. Analysis of correlation between each metric and rating (average values) (Spearman and/or Kendall).\n",
    "  - 3. Optionally, to model the relation between metric and rating, ordinal regression or linear regression if Likert is considered continuous."
   ]
  },
  {
   "cell_type": "markdown",
   "metadata": {},
   "source": [
    "**Experiments Scenarios**:\n",
    "1. \"Passing\"\n",
    "2. \"Overtaking\"\n",
    "3. \"Crossing 1\"\n",
    "4. \"Crossing 2\"\n",
    "5. \"Advanced 1\"\n",
    "6. \"Advanced 2\"\n",
    "7. \"Advanced 3\"\n",
    "8. \"Advanced 4\"\n",
    "\n",
    "**Labels**:\n",
    "1. \"Good\"\n",
    "2. \"Mid\"\n",
    "3. \"Bad\"\n",
    "\n",
    "**QM Metrics**\n",
    "- [0] Time to Goal\n",
    "- [1] Path length\n",
    "- [2] Cumulative heading changes\n",
    "- [3] Avg robot linear speed\n",
    "- [4] Social Work \n",
    "- [5] Social Work (per second)\n",
    "- [6] Average minimum distance to closest person\n",
    "- [7] Proxemics: intimate space occupancy\n",
    "- [8] Proxemics: personal space occupancy\n",
    "- [9] Proxemics: social space occupancy\n",
    "- [10] Proxemics: public space occupancy\n",
    "\n",
    "**HM Metrics**\n",
    "- [0] Unobtrusiveness\n",
    "- [1] Friendliness\n",
    "- [2] Smoothness\n",
    "- [3] Avoidance Foresight\n",
    "\n",
    "Therefore we have 24 scenarios. 11 cuantitative metrics and 4 Likert-scale metric of 70 users. "
   ]
  },
  {
   "cell_type": "markdown",
   "metadata": {},
   "source": [
    "First, we load the data:"
   ]
  },
  {
   "cell_type": "code",
   "execution_count": 1,
   "metadata": {},
   "outputs": [],
   "source": [
    "import yaml\n",
    "import numpy as np\n",
    "import os\n",
    "from os.path import expanduser"
   ]
  },
  {
   "cell_type": "code",
   "execution_count": 40,
   "metadata": {},
   "outputs": [
    {
     "name": "stdout",
     "output_type": "stream",
     "text": [
      "lab data path:  /home/robotics/Social-Nav-Metrics-Matching/social_metrics_match/data_folder/validation_of_metrics_quantitative_and_lab_qualitative.ods\n",
      "survey data path:  /home/robotics/Social-Nav-Metrics-Matching/social_metrics_match/data_folder/qualitative_metrics_survey.xlsx\n",
      "results dir path:  /home/robotics/social_metrics_results\n"
     ]
    }
   ],
   "source": [
    "home = expanduser(\"~\")\n",
    "# Load config params for experiments\n",
    "config = yaml.safe_load(open('params.yaml'))['social_metrics_match']\n",
    "\n",
    "lab_data_path = home + config['data']['repo_dir'] + config['data']['lab_data_path']\n",
    "survey_data_path = home + config['data']['repo_dir'] + config['data']['survey_data_path']\n",
    "results_dir = home + config['data']['results_path']\n",
    "print(\"lab data path: \", lab_data_path)\n",
    "print(\"survey data path: \", survey_data_path)\n",
    "print(\"results dir path: \", results_dir)\n",
    "\n",
    "# normalize Likert scale from 1-5 to 0-1\n",
    "normalizeHM = True\n",
    "# normalize quantitative metrics\n",
    "normalizeQM = True\n",
    "# weight the qualitative metrics according to robotics expertise\n",
    "weightQual = False"
   ]
  },
  {
   "cell_type": "markdown",
   "metadata": {},
   "source": [
    "## Extract LAB data arrays"
   ]
  },
  {
   "cell_type": "code",
   "execution_count": 41,
   "metadata": {},
   "outputs": [],
   "source": [
    "from utils.data_organization import organize_dict_lab_data, get_all_lab_data_arr, np_extract_exp_lab, np_single_lab_run\n",
    "from utils.data_organization  import organize_dict_survey, weighted_avg_survey_data, get_robotics_knowledge, datacube_qual_survey_data"
   ]
  },
  {
   "cell_type": "code",
   "execution_count": 4,
   "metadata": {},
   "outputs": [
    {
     "name": "stdout",
     "output_type": "stream",
     "text": [
      "Defaulting to user installation because normal site-packages is not writeable\n",
      "Requirement already satisfied: odfpy in /home/robotics/.local/lib/python3.10/site-packages (1.4.1)\n",
      "Requirement already satisfied: defusedxml in /usr/lib/python3/dist-packages (from odfpy) (0.7.1)\n",
      "Note: you may need to restart the kernel to use updated packages.\n"
     ]
    }
   ],
   "source": [
    "%pip install odfpy"
   ]
  },
  {
   "cell_type": "code",
   "execution_count": 42,
   "metadata": {},
   "outputs": [
    {
     "name": "stdout",
     "output_type": "stream",
     "text": [
      "Lab data keys: dict_keys(['Passing', 'Overtaking', 'Crossing 1', 'Crossing 2', 'Advanced 1', 'Advanced 2', 'Advanced 3', 'Advanced 4'])\n",
      "Lab data keys for passing: dict_keys(['Good', 'Mid', 'Bad'])\n",
      "Lab data keys for pasing-good-qualitative: 4\n",
      "Passing single run QM shape:(11,), passing single run HM shape: (4,)\n",
      "Passing good QM: [1.02326076e+01 4.55598068e+00 4.04913597e+00 1.99936767e-01\n",
      " 1.99432749e+03 1.81716719e+02 2.37741413e+00 9.28961749e+00\n",
      " 1.23341140e+01 7.28337237e+01 5.54254489e+00],\n",
      "Passing good HM: [0.8 0.8 0.8 1. ]\n",
      "passing QM shape:(11, 3), passing HM shape: (4, 3)\n",
      "passing QM: [[1.         0.90401246 0.62749248]\n",
      " [0.90341966 0.93725536 1.        ]\n",
      " [0.31076882 0.22725207 1.        ]\n",
      " [0.63983373 0.64237074 1.        ]\n",
      " [1.         0.85756766 0.82932825]\n",
      " [0.78353775 0.70336883 1.        ]\n",
      " [1.         0.77353924 0.61921731]\n",
      " [1.         0.84377045 0.65950428]\n",
      " [0.9659728  0.92315357 1.        ]\n",
      " [1.         0.61402009 0.53479008]\n",
      " [1.         0.98972493 0.95775221]],\n",
      "passing HM: [[0.8 0.6 0.4]\n",
      " [0.8 0.4 0.2]\n",
      " [0.8 0.4 0.2]\n",
      " [1.  0.6 0.2]]\n",
      "All lab QM array: (24, 11), All lab HM array: (24, 4)\n",
      "All lab QM nonorm array: [[0.62749248 1.         1.         1.         0.82932825 1.\n",
      "  0.61921731 0.65950428 1.         0.53479008 0.95775221]\n",
      " [0.90401246 0.93725536 0.22725207 0.64237074 0.85756766 0.70336883\n",
      "  0.77353924 0.84377045 0.92315357 0.61402009 0.98972493]\n",
      " [1.         0.90341966 0.31076882 0.63983373 1.         0.78353775\n",
      "  1.         1.         0.9659728  1.         1.        ]\n",
      " [1.         0.70150873 1.         0.20373853 0.91139353 0.76351984\n",
      "  0.51074161 0.64846416 0.86032436 0.7362406  1.        ]\n",
      " [0.82508666 0.70241125 0.73910614 0.19883518 1.         1.\n",
      "  0.73373462 0.76886792 1.         0.89509968 1.        ]\n",
      " [0.21120553 1.         0.76617914 1.         0.19282139 0.72507813\n",
      "  1.         1.         0.64550641 1.         1.        ]\n",
      " [0.95700915 1.         1.         0.69511139 1.         1.\n",
      "  1.         1.         0.49852681 1.         1.        ]\n",
      " [0.85903468 0.95547636 0.92225434 1.         0.84850044 0.9390447\n",
      "  0.53741434 0.50729695 1.         0.80797859 1.        ]\n",
      " [1.         0.92014276 0.66216115 0.74432824 0.86094753 0.82717261\n",
      "  0.95977688 1.         0.49635653 0.99784118 1.        ]\n",
      " [1.         1.         1.         0.43380798 1.         1.\n",
      "  0.63539787 0.82895839 0.72763234 0.84010512 1.        ]\n",
      " [0.76062951 0.82738016 0.45538189 0.45545355 0.50747048 0.66139155\n",
      "  1.         1.         0.71413738 1.         1.        ]\n",
      " [0.60134733 0.80443574 0.56462294 1.         0.23543475 0.38277544\n",
      "  0.66437007 0.67644767 1.         0.86874129 1.        ]\n",
      " [0.24780382 1.         0.69452049 1.         0.27046714 1.\n",
      "  0.93651512 0.86732362 1.         0.9378554  1.        ]\n",
      " [0.88325245 0.66730687 1.         0.20533106 0.37757352 0.4340131\n",
      "  0.99988883 1.         0.93913768 1.         1.        ]\n",
      " [1.         0.64167394 0.81576607 0.18857611 1.         0.95832296\n",
      "  1.         0.94916836 0.8475151  0.90658204 1.        ]\n",
      " [0.6821714  1.         0.52302023 1.         0.21621297 0.31560671\n",
      "  1.         0.92656173 0.70816883 0.98397974 1.        ]\n",
      " [1.         0.98186855 1.         0.74615416 1.         1.\n",
      "  0.30402797 0.32180235 1.         0.89278435 1.        ]\n",
      " [0.81146372 0.6606444  0.20285581 0.65532762 0.20954747 0.25592802\n",
      "  0.87503744 1.         0.67671775 1.         1.        ]\n",
      " [0.86988802 0.89920216 1.         0.9930994  0.50467345 0.40992834\n",
      "  1.         0.96102852 1.         0.95042131 1.        ]\n",
      " [0.64260608 1.         0.71767103 1.         1.         1.\n",
      "  0.645107   0.83023387 0.87850474 0.77051207 0.89775199]\n",
      " [1.         0.88434572 0.84654898 0.91820128 0.49028712 0.32252238\n",
      "  0.93865016 1.         0.8751413  1.         0.89775199]\n",
      " [0.97133427 1.         1.         0.83319477 1.         0.72067214\n",
      "  0.93675704 0.72535526 1.         1.         1.        ]\n",
      " [1.         0.74305932 0.19986196 0.85855513 0.81817684 0.74268802\n",
      "  1.         1.         0.73486025 0.94094112 0.98857658]\n",
      " [0.43950695 0.42882107 0.11929873 1.         0.62951608 1.\n",
      "  0.75519201 0.84719153 0.72468322 0.86321904 0.96529175]], All lab HM nonorm array: [[0.4   0.2   0.2   0.2  ]\n",
      " [0.6   0.4   0.4   0.6  ]\n",
      " [0.8   0.8   0.8   1.   ]\n",
      " [0.8   0.8   0.6   0.6  ]\n",
      " [0.8   0.6   0.2   0.4  ]\n",
      " [0.8   0.6   0.4   0.8  ]\n",
      " [0.8   0.8   0.5   0.8  ]\n",
      " [0.5   0.4   0.7   0.4  ]\n",
      " [1.    1.    0.8   0.8  ]\n",
      " [0.8   0.7   0.7   0.7  ]\n",
      " [0.8   0.6   0.7   0.8  ]\n",
      " [0.5   0.5   0.4   0.4  ]\n",
      " [0.6   0.4   0.2   0.4  ]\n",
      " [0.6   0.6   0.4   0.6  ]\n",
      " [1.    1.    0.7   1.   ]\n",
      " [0.8   0.8   0.732 0.732]\n",
      " [0.46  0.46  0.52  0.6  ]\n",
      " [0.66  0.52  0.66  0.46 ]\n",
      " [0.86  0.86  0.46  0.8  ]\n",
      " [0.52  0.4   0.66  0.66 ]\n",
      " [1.    1.    0.8   1.   ]\n",
      " [0.    0.8   0.8   0.8  ]\n",
      " [0.    1.    1.    0.8  ]\n",
      " [0.    0.6   0.4   0.6  ]]\n"
     ]
    }
   ],
   "source": [
    "dict_lab_data = organize_dict_lab_data(lab_data_path)\n",
    "print(f\"Lab data keys: {dict_lab_data.keys()}\")\n",
    "print(f\"Lab data keys for passing: {dict_lab_data['Passing'].keys()}\")\n",
    "print(f\"Lab data keys for pasing-good-qualitative: {dict_lab_data['Passing']['Good']['qualitative']['friendliness']}\")\n",
    "\n",
    "# Extract the np arrays of a specific experiments identified by its keys\n",
    "passing_good_QM_array, passing_good_HM_array = np_single_lab_run(lab_dict=dict_lab_data, experiment='Passing', label='Good', normalizeHM=normalizeHM)\n",
    "print(f\"Passing single run QM shape:{passing_good_QM_array.shape}, passing single run HM shape: {passing_good_HM_array.shape}\")\n",
    "print(f\"Passing good QM: {passing_good_QM_array},\\nPassing good HM: {passing_good_HM_array}\") \n",
    "\n",
    "# Extract the np arrays of a lab scenario (all the 3 runs with different labels), dividing QM and HM #'Advanced 4'\n",
    "passing_QM_array, passing_HM_array = np_extract_exp_lab(dict_lab_data, experiment='Passing', order=False, normalizeQM=normalizeQM, normalizeHM=normalizeHM, normalization=\"rescale\")\n",
    "print(f\"passing QM shape:{passing_QM_array.shape}, passing HM shape: {passing_HM_array.shape}\")\n",
    "print(f\"passing QM: {passing_QM_array},\\npassing HM: {passing_HM_array}\")\n",
    "\n",
    "# Starting from the complete dataframe with lab data, Extract the np arrays of all lab scenarios dividing QM and HM\n",
    "all_lab_QM_array, all_lab_HM_array = get_all_lab_data_arr(dict_lab_data, normalizeQM=normalizeQM, normalizeHM=normalizeHM, normalization=\"rescale\")\n",
    "all_lab_QM_nonorm_array, all_lab_HM_nonorm_array = get_all_lab_data_arr(dict_lab_data, normalizeQM=normalizeQM, normalizeHM=normalizeHM, normalization=\"rescale\")\n",
    "print(f\"All lab QM array: {all_lab_QM_array.shape}, All lab HM array: {all_lab_HM_array.shape}\")\n",
    "print(f\"All lab QM nonorm array: {all_lab_QM_nonorm_array}, All lab HM nonorm array: {all_lab_HM_nonorm_array}\")"
   ]
  },
  {
   "cell_type": "markdown",
   "metadata": {},
   "source": [
    "**SURVEY DATA**"
   ]
  },
  {
   "cell_type": "code",
   "execution_count": 6,
   "metadata": {},
   "outputs": [
    {
     "name": "stdout",
     "output_type": "stream",
     "text": [
      "Defaulting to user installation because normal site-packages is not writeable\n",
      "Requirement already satisfied: openpyxl in /home/robotics/.local/lib/python3.10/site-packages (3.1.5)\n",
      "Requirement already satisfied: et-xmlfile in /home/robotics/.local/lib/python3.10/site-packages (from openpyxl) (2.0.0)\n",
      "Note: you may need to restart the kernel to use updated packages.\n"
     ]
    }
   ],
   "source": [
    "%pip install openpyxl"
   ]
  },
  {
   "cell_type": "code",
   "execution_count": 43,
   "metadata": {},
   "outputs": [
    {
     "name": "stdout",
     "output_type": "stream",
     "text": [
      "survey avg shape: (24, 4),\n",
      "survey weighted std shape:  (24, 4)\n",
      "survey avg[0]: [0.36231884 0.44927536 0.50434783 0.47246377],\n",
      "survey weighted std[0]:  [0.19934781 0.22173439 0.21157435 0.25474287]\n"
     ]
    }
   ],
   "source": [
    "dict_survey_data = organize_dict_survey(survey_data_path)\n",
    "robot_knowledge_array = get_robotics_knowledge(survey_data_path)\n",
    "\n",
    "# To extract np arrays of all the survey data\n",
    "survey_datacube = datacube_qual_survey_data(dict_survey_data, normalize=normalizeHM)\n",
    "\n",
    "# To directly extract the average and std: If Weighted average set w_avg=True (use robotics background knowledge as weights)\n",
    "survey_array_avg, survey_array_std = weighted_avg_survey_data(dict_survey_data, robot_knowledge_array, w_avg=weightQual, normalize=normalizeHM)\n",
    "print(f\"survey avg shape: {survey_array_avg.shape},\\nsurvey weighted std shape:  {survey_array_std.shape}\") \n",
    "print(f\"survey avg[0]: {survey_array_avg[0]},\\nsurvey weighted std[0]:  {survey_array_std[0]}\")"
   ]
  },
  {
   "cell_type": "markdown",
   "metadata": {},
   "source": [
    "# Step 1: ANOVA (variance analysis)"
   ]
  },
  {
   "cell_type": "markdown",
   "metadata": {},
   "source": [
    "# Step 2: Non-parametric correlations (Spearman and Kendall)"
   ]
  },
  {
   "cell_type": "code",
   "execution_count": null,
   "metadata": {},
   "outputs": [],
   "source": [
    "%pip install scipy"
   ]
  },
  {
   "cell_type": "code",
   "execution_count": 44,
   "metadata": {},
   "outputs": [
    {
     "name": "stdout",
     "output_type": "stream",
     "text": [
      "Spearman correlation results:\n",
      "Time_to_Goal - unobtrusiveness: rho = 0.2407293314367301, p-value = 0.25715794794124464\n",
      "Time_to_Goal - friendliness: rho = 0.3995376782006841, p-value = 0.053079736281745296\n",
      "Time_to_Goal - smoothness: rho = 0.5207967552973263, p-value = 0.009072427301832582\n",
      "Time_to_Goal - avoidance foresight: rho = 0.5306498209361635, p-value = 0.007636441199190348\n",
      "Path_length - unobtrusiveness: rho = 0.05452984855749134, p-value = 0.8002159247801649\n",
      "Path_length - friendliness: rho = -0.006201249994245652, p-value = 0.9770574596392909\n",
      "Path_length - smoothness: rho = 0.10212135439900782, p-value = 0.6349097583973466\n",
      "Path_length - avoidance foresight: rho = -0.11738080346250697, p-value = 0.5848993351828223\n",
      "Cumulative_heading_changes - unobtrusiveness: rho = 0.2828458811356055, p-value = 0.18049787013537733\n",
      "Cumulative_heading_changes - friendliness: rho = 0.16167544627854735, p-value = 0.4503996744174622\n",
      "Cumulative_heading_changes - smoothness: rho = 0.4027258618164777, p-value = 0.05103858799870029\n",
      "Cumulative_heading_changes - avoidance foresight: rho = 0.25735187476119453, p-value = 0.22473400763437695\n",
      "Avg_robot_linear_speed - unobtrusiveness: rho = -0.35599567798102066, p-value = 0.08775405346898207\n",
      "Avg_robot_linear_speed - friendliness: rho = -0.3211361604162926, p-value = 0.1259891425554466\n",
      "Avg_robot_linear_speed - smoothness: rho = -0.35244050943345223, p-value = 0.0911962150462752\n",
      "Avg_robot_linear_speed - avoidance foresight: rho = -0.5009724102494165, p-value = 0.012644111275479456\n",
      "Social_Work - unobtrusiveness: rho = 0.015516623573269894, p-value = 0.9426323975579354\n",
      "Social_Work - friendliness: rho = 0.1085218748992989, p-value = 0.6137272522696084\n",
      "Social_Work - smoothness: rho = 0.1606029976990904, p-value = 0.4534499285934769\n",
      "Social_Work - avoidance foresight: rho = 0.20419830338194608, p-value = 0.3385185047851126\n",
      "Social_Work_per_second - unobtrusiveness: rho = -0.04654987071980968, p-value = 0.8289958923458745\n",
      "Social_Work_per_second - friendliness: rho = 0.036321607109153095, p-value = 0.8661939440302489\n",
      "Social_Work_per_second - smoothness: rho = -0.11208981632515827, p-value = 0.6020466387906936\n",
      "Social_Work_per_second - avoidance foresight: rho = -0.07131437493382499, p-value = 0.7405394295325847\n",
      "Avg_min_distance_to_closest_person - unobtrusiveness: rho = 0.49387196173207604, p-value = 0.014175546739440052\n",
      "Avg_min_distance_to_closest_person - friendliness: rho = 0.6511312493957934, p-value = 0.0005688656723098432\n",
      "Avg_min_distance_to_closest_person - smoothness: rho = 0.4443718805301729, p-value = 0.02959108218549848\n",
      "Avg_min_distance_to_closest_person - avoidance foresight: rho = 0.6382858029791417, p-value = 0.0007901289344251235\n",
      "Proxemics_intimate_space_occupancy - unobtrusiveness: rho = 0.5193880334496253, p-value = 0.00929492471039425\n",
      "Proxemics_intimate_space_occupancy - friendliness: rho = 0.609147134403679, p-value = 0.0015811288134471274\n",
      "Proxemics_intimate_space_occupancy - smoothness: rho = 0.4172046533959859, p-value = 0.042526216979849533\n",
      "Proxemics_intimate_space_occupancy - avoidance foresight: rho = 0.5716336745137164, p-value = 0.0035213251435825027\n",
      "Proxemics_personal_space_occupancy - unobtrusiveness: rho = -0.32673575924285464, p-value = 0.11915101701606934\n",
      "Proxemics_personal_space_occupancy - friendliness: rho = -0.2998747318645933, p-value = 0.1545435817157924\n",
      "Proxemics_personal_space_occupancy - smoothness: rho = -0.09038072146376397, p-value = 0.6744870305230103\n",
      "Proxemics_personal_space_occupancy - avoidance foresight: rho = -0.22058732122388103, p-value = 0.30029892941572633\n",
      "Proxemics_social_space_occupancy - unobtrusiveness: rho = 0.461508718279256, p-value = 0.02320167278824129\n",
      "Proxemics_social_space_occupancy - friendliness: rho = 0.4509194638672909, p-value = 0.027001871090838125\n",
      "Proxemics_social_space_occupancy - smoothness: rho = 0.3991815197982908, p-value = 0.053311635871350176\n",
      "Proxemics_social_space_occupancy - avoidance foresight: rho = 0.5200191066603139, p-value = 0.009194698521338375\n",
      "Proxemics_public_space_occupancy - unobtrusiveness: rho = 0.3811206380060712, p-value = 0.06613819257214561\n",
      "Proxemics_public_space_occupancy - friendliness: rho = 0.1961120960915201, p-value = 0.35839720748594883\n",
      "Proxemics_public_space_occupancy - smoothness: rho = 0.17556707323715737, p-value = 0.4118816501982465\n",
      "Proxemics_public_space_occupancy - avoidance foresight: rho = 0.2458548143421389, p-value = 0.246854833052568\n"
     ]
    }
   ],
   "source": [
    "from scipy import stats\n",
    "\n",
    "# All lab QM array: (24, 11), All lab HM array: (24, 4)\n",
    "# Now, we compare each metric with the survey data for each of the 4 criteria\n",
    "# example dict_spearman = {'social_work': {'friendliness': {'rho': 0.5, 'p': 0.6}}}\n",
    "# example dict_kendall = {'social_work': {'friendliness': {'tau': 0.5, 'p': 0.6}}}\n",
    "metrics = ['Time_to_Goal', 'Path_length', 'Cumulative_heading_changes', 'Avg_robot_linear_speed', 'Social_Work', 'Social_Work_per_second', 'Avg_min_distance_to_closest_person', 'Proxemics_intimate_space_occupancy', 'Proxemics_personal_space_occupancy', 'Proxemics_social_space_occupancy', 'Proxemics_public_space_occupancy']\n",
    "criterias = dict_lab_data['Passing']['Good']['qualitative'].keys()\n",
    "dict_spearman = {} \n",
    "dict_kendall = {}\n",
    "# weighted_survey_array_avg shape: (24, 4)\n",
    "\n",
    "for i, metric in enumerate(metrics):\n",
    "    dict_spearman[metric] = {}\n",
    "    dict_kendall[metric] = {}\n",
    "    for j, criteria in enumerate(dict_lab_data['Passing']['Good']['qualitative'].keys()):\n",
    "        # Spearman correlation\n",
    "        rho, pval = stats.spearmanr(all_lab_QM_array[:, i], survey_array_avg[:,j])\n",
    "        dict_spearman[metric][criteria] = {}\n",
    "        dict_spearman[metric][criteria]['rho'] = rho\n",
    "        dict_spearman[metric][criteria]['p'] = pval\n",
    "        # Kendall correlation\n",
    "        tau, pval = stats.kendalltau(all_lab_QM_array[:, i], survey_array_avg[:,j])\n",
    "        dict_kendall[metric][criteria] = {}\n",
    "        dict_kendall[metric][criteria]['tau'] = tau\n",
    "        dict_kendall[metric][criteria]['p'] = pval\n",
    "\n",
    "# Print the results\n",
    "print(\"Spearman correlation results:\")\n",
    "for metric, criteria_dict in dict_spearman.items():\n",
    "    for criteria, result in criteria_dict.items():\n",
    "        print(f\"{metric} - {criteria}: rho = {result['rho']}, p-value = {result['p']}\")\n"
   ]
  },
  {
   "cell_type": "markdown",
   "metadata": {},
   "source": [
    "### Now we check for possible candidates!\n",
    "\n",
    "Spearman:\n",
    "- rho [-1,1]: \n",
    "    * |rho| > 0.7           -- strong correlation\n",
    "    * 0.4 < |rho| <= 0.7    -- moderate\n",
    "    * 0.2 < |rho| <= 0.4    -- light\n",
    "    * <= 0.2                -- none\n",
    "- p: if p < 0.05            -- correlation is statistically significant\n",
    "\n",
    "Kendall:\n",
    "- tau:\n",
    "    * |tau| > 0.6           -- strong\n",
    "    * 0.3 < |tau| <= 0.6    -- moderate\n",
    "    * 0.1 < |tau| <= 0.3    -- light\n",
    "    * <= 0.1                -- none\n",
    "- p: if p < 0.05            -- correlation is statitically significant"
   ]
  },
  {
   "cell_type": "code",
   "execution_count": 46,
   "metadata": {},
   "outputs": [
    {
     "name": "stdout",
     "output_type": "stream",
     "text": [
      "\n",
      "📊 Métricas candidatas según Spearman:\n",
      "✅ Time_to_Goal - smoothness: rho = 0.521, p = 0.009\n",
      "✅ Time_to_Goal - avoidance foresight: rho = 0.531, p = 0.008\n",
      "✅ Avg_robot_linear_speed - avoidance foresight: rho = -0.501, p = 0.013\n",
      "✅ Avg_min_distance_to_closest_person - unobtrusiveness: rho = 0.494, p = 0.014\n",
      "✅ Avg_min_distance_to_closest_person - friendliness: rho = 0.651, p = 0.001\n",
      "✅ Avg_min_distance_to_closest_person - smoothness: rho = 0.444, p = 0.030\n",
      "✅ Avg_min_distance_to_closest_person - avoidance foresight: rho = 0.638, p = 0.001\n",
      "✅ Proxemics_intimate_space_occupancy - unobtrusiveness: rho = 0.519, p = 0.009\n",
      "✅ Proxemics_intimate_space_occupancy - friendliness: rho = 0.609, p = 0.002\n",
      "✅ Proxemics_intimate_space_occupancy - smoothness: rho = 0.417, p = 0.043\n",
      "✅ Proxemics_intimate_space_occupancy - avoidance foresight: rho = 0.572, p = 0.004\n",
      "✅ Proxemics_social_space_occupancy - unobtrusiveness: rho = 0.462, p = 0.023\n",
      "✅ Proxemics_social_space_occupancy - friendliness: rho = 0.451, p = 0.027\n",
      "✅ Proxemics_social_space_occupancy - avoidance foresight: rho = 0.520, p = 0.009\n",
      "\n",
      "📊 Métricas candidatas según Kendall:\n",
      "✅ Time_to_Goal - smoothness: tau = 0.356, p = 0.019\n",
      "✅ Time_to_Goal - avoidance foresight: tau = 0.359, p = 0.017\n",
      "✅ Avg_robot_linear_speed - avoidance foresight: tau = -0.352, p = 0.020\n",
      "✅ Avg_min_distance_to_closest_person - unobtrusiveness: tau = 0.327, p = 0.031\n",
      "✅ Avg_min_distance_to_closest_person - friendliness: tau = 0.443, p = 0.003\n",
      "✅ Avg_min_distance_to_closest_person - avoidance foresight: tau = 0.451, p = 0.003\n",
      "✅ Proxemics_intimate_space_occupancy - unobtrusiveness: tau = 0.387, p = 0.011\n",
      "✅ Proxemics_intimate_space_occupancy - friendliness: tau = 0.474, p = 0.002\n",
      "✅ Proxemics_intimate_space_occupancy - avoidance foresight: tau = 0.435, p = 0.004\n",
      "✅ Proxemics_social_space_occupancy - unobtrusiveness: tau = 0.365, p = 0.016\n",
      "✅ Proxemics_social_space_occupancy - friendliness: tau = 0.344, p = 0.023\n",
      "✅ Proxemics_social_space_occupancy - smoothness: tau = 0.306, p = 0.043\n",
      "✅ Proxemics_social_space_occupancy - avoidance foresight: tau = 0.413, p = 0.006\n"
     ]
    }
   ],
   "source": [
    "# Umbrales para considerar correlación significativa y fuerte\n",
    "SPEARMAN_THRESH = 0.4  # fuerza\n",
    "KENDALL_THRESH = 0.3   # fuerza\n",
    "PVAL_THRESH = 0.05     # significancia\n",
    "\n",
    "# Resultados filtrados\n",
    "good_spearman = {}\n",
    "good_kendall = {}\n",
    "\n",
    "print(\"\\n📊 Métricas candidatas según Spearman:\")\n",
    "for metric, criteria_dict in dict_spearman.items():\n",
    "    for criteria, result in criteria_dict.items():\n",
    "        rho, p = result['rho'], result['p']\n",
    "        if abs(rho) >= SPEARMAN_THRESH and p < PVAL_THRESH:\n",
    "            print(f\"✅ {metric} - {criteria}: rho = {rho:.3f}, p = {p:.3f}\")\n",
    "            good_spearman.setdefault(metric, {})[criteria] = {'rho': rho, 'p': p}\n",
    "\n",
    "print(\"\\n📊 Métricas candidatas según Kendall:\")\n",
    "for metric, criteria_dict in dict_kendall.items():\n",
    "    for criteria, result in criteria_dict.items():\n",
    "        tau, p = result['tau'], result['p']\n",
    "        if abs(tau) >= KENDALL_THRESH and p < PVAL_THRESH:\n",
    "            print(f\"✅ {metric} - {criteria}: tau = {tau:.3f}, p = {p:.3f}\")\n",
    "            good_kendall.setdefault(metric, {})[criteria] = {'tau': tau, 'p': p}\n"
   ]
  },
  {
   "cell_type": "markdown",
   "metadata": {},
   "source": [
    "### We cross Spearman and Kendall to find coincidences"
   ]
  },
  {
   "cell_type": "code",
   "execution_count": 47,
   "metadata": {},
   "outputs": [
    {
     "name": "stdout",
     "output_type": "stream",
     "text": [
      "\n",
      "🔁 Coincidencias entre Spearman y Kendall:\n",
      "✅ Time_to_Goal - smoothness: rho = 0.521, tau = 0.356\n",
      "✅ Time_to_Goal - avoidance foresight: rho = 0.531, tau = 0.359\n",
      "✅ Avg_robot_linear_speed - avoidance foresight: rho = -0.501, tau = -0.352\n",
      "✅ Avg_min_distance_to_closest_person - unobtrusiveness: rho = 0.494, tau = 0.327\n",
      "✅ Avg_min_distance_to_closest_person - friendliness: rho = 0.651, tau = 0.443\n",
      "✅ Avg_min_distance_to_closest_person - avoidance foresight: rho = 0.638, tau = 0.451\n",
      "✅ Proxemics_intimate_space_occupancy - unobtrusiveness: rho = 0.519, tau = 0.387\n",
      "✅ Proxemics_intimate_space_occupancy - friendliness: rho = 0.609, tau = 0.474\n",
      "✅ Proxemics_intimate_space_occupancy - avoidance foresight: rho = 0.572, tau = 0.435\n",
      "✅ Proxemics_social_space_occupancy - unobtrusiveness: rho = 0.462, tau = 0.365\n",
      "✅ Proxemics_social_space_occupancy - friendliness: rho = 0.451, tau = 0.344\n",
      "✅ Proxemics_social_space_occupancy - avoidance foresight: rho = 0.520, tau = 0.413\n"
     ]
    }
   ],
   "source": [
    "# Encontrar coincidencias entre Spearman y Kendall\n",
    "consistent_metrics = {}\n",
    "\n",
    "print(\"\\n🔁 Coincidencias entre Spearman y Kendall:\")\n",
    "for metric in good_spearman:\n",
    "    if metric in good_kendall:\n",
    "        for criteria in good_spearman[metric]:\n",
    "            if criteria in good_kendall[metric]:\n",
    "                # Ambas pruebas coinciden\n",
    "                rho = good_spearman[metric][criteria]['rho']\n",
    "                tau = good_kendall[metric][criteria]['tau']\n",
    "                print(f\"✅ {metric} - {criteria}: rho = {rho:.3f}, tau = {tau:.3f}\")\n",
    "                consistent_metrics.setdefault(metric, {})[criteria] = {\n",
    "                    'rho': rho,\n",
    "                    'tau': tau,\n",
    "                    'spearman_p': good_spearman[metric][criteria]['p'],\n",
    "                    'kendall_p': good_kendall[metric][criteria]['p']\n",
    "                }\n",
    "\n",
    "# Si quieres ver todas las coincidencias juntas como diccionario:\n",
    "# import pprint; pprint.pprint(consistent_metrics)\n"
   ]
  },
  {
   "cell_type": "markdown",
   "metadata": {},
   "source": [
    "### Store the results in CSV"
   ]
  },
  {
   "cell_type": "code",
   "execution_count": 48,
   "metadata": {},
   "outputs": [
    {
     "name": "stdout",
     "output_type": "stream",
     "text": [
      "\n",
      "✅ Correlaciones consistentes ordenadas por fuerza de correlación y guardadas en 'correlaciones_consistentes.csv'\n"
     ]
    }
   ],
   "source": [
    "# We generate a CSV file with the results ordered by strength of correlation\n",
    "import pandas as pd\n",
    "\n",
    "# Paso 1: Convertir consistent_metrics en lista de filas\n",
    "rows = []\n",
    "for metric, crit_dict in consistent_metrics.items():\n",
    "    for criteria, vals in crit_dict.items():\n",
    "        strength = (abs(vals['rho']) + abs(vals['tau'])) / 2\n",
    "        rows.append({\n",
    "            'metric': metric,\n",
    "            'criteria': criteria,\n",
    "            'rho': vals['rho'],\n",
    "            'tau': vals['tau'],\n",
    "            'spearman_p': vals['spearman_p'],\n",
    "            'kendall_p': vals['kendall_p'],\n",
    "            'strength': strength\n",
    "        })\n",
    "\n",
    "# Paso 2: Crear DataFrame y ordenar por fuerza de correlación\n",
    "df_corr = pd.DataFrame(rows)\n",
    "df_corr_sorted = df_corr.sort_values(by='strength', ascending=False)\n",
    "\n",
    "# Paso 3: Guardar en CSV\n",
    "df_corr_sorted.to_csv(\"correlaciones_consistentes.csv\", index=False)\n",
    "\n",
    "print(\"\\n✅ Correlaciones consistentes ordenadas por fuerza de correlación y guardadas en 'correlaciones_consistentes.csv'\")\n"
   ]
  },
  {
   "cell_type": "markdown",
   "metadata": {},
   "source": [
    "### Generate a heatmap of the correlations"
   ]
  },
  {
   "cell_type": "code",
   "execution_count": 49,
   "metadata": {},
   "outputs": [
    {
     "name": "stderr",
     "output_type": "stream",
     "text": [
      "/tmp/ipykernel_118556/859502384.py:17: UserWarning: Glyph 128257 (\\N{CLOCKWISE RIGHTWARDS AND LEFTWARDS OPEN CIRCLE ARROWS}) missing from current font.\n",
      "  plt.tight_layout()\n",
      "/tmp/ipykernel_118556/859502384.py:20: UserWarning: Glyph 128257 (\\N{CLOCKWISE RIGHTWARDS AND LEFTWARDS OPEN CIRCLE ARROWS}) missing from current font.\n",
      "  plt.savefig(\"heatmap_correlaciones.png\", dpi=300)\n",
      "/home/robotics/.local/lib/python3.10/site-packages/IPython/core/pylabtools.py:170: UserWarning: Glyph 128257 (\\N{CLOCKWISE RIGHTWARDS AND LEFTWARDS OPEN CIRCLE ARROWS}) missing from current font.\n",
      "  fig.canvas.print_figure(bytes_io, **kw)\n"
     ]
    },
    {
     "data": {
      "image/png": "[encoded data removed]",
      "text/plain": [
       "<Figure size 1000x600 with 2 Axes>"
      ]
     },
     "metadata": {},
     "output_type": "display_data"
    }
   ],
   "source": [
    "# Generate a heatmap of the correlations\n",
    "import seaborn as sns\n",
    "import matplotlib.pyplot as plt\n",
    "\n",
    "# Pivot para formato tipo tabla (filas: métricas, columnas: criterios)\n",
    "heatmap_data = df_corr_sorted.pivot(index='metric', columns='criteria', values='strength')\n",
    "\n",
    "# Configurar el tamaño del gráfico\n",
    "plt.figure(figsize=(10, 6))\n",
    "\n",
    "# Crear el heatmap\n",
    "sns.heatmap(heatmap_data, annot=True, fmt=\".2f\", cmap=\"YlGnBu\", linewidths=0.5, cbar_kws={'label': 'avg correlation strength'})\n",
    "\n",
    "plt.title(\"🔁 Consistent correlations (Spearman + Kendall)\")\n",
    "plt.ylabel(\"Metric\")\n",
    "plt.xlabel(\"Human criteria\")\n",
    "plt.tight_layout()\n",
    "\n",
    "# Guardar el heatmap como imagen PNG (puedes cambiar el nombre o formato)\n",
    "plt.savefig(\"heatmap_correlaciones.png\", dpi=300)\n",
    "# Mostrar el heatmap\n",
    "plt.show()\n"
   ]
  },
  {
   "cell_type": "markdown",
   "metadata": {},
   "source": [
    "## Step 2: ORDINAL REGRESSION (ideal for Likert)\n",
    "\n",
    "But we should work with ordinal data (Likert 1-5).\n",
    "Since we are employing the average values (and normalizing the data in some cases), we do not use the ordinal ones, and we do not apply this.\n",
    "\n",
    "Instead--> LINEAR REGRESSION (continuous Likert) \n"
   ]
  },
  {
   "cell_type": "markdown",
   "metadata": {},
   "source": [
    "# Code for linear regression with statmodels\n",
    "\n",
    "- coef → cuánto cambia la valoración por unidad de cambio en la métrica.\n",
    "\n",
    "- P>|t| → si es < 0.05, se considera que esa métrica está estadísticamente relacionada con el criterio humano.\n",
    "\n",
    "- R-squared → qué tanto del criterio puede explicarse con las métricas (idealmente cercano a 1).\n",
    "\n",
    "- const → término independiente (intercepto).\n",
    "\n",
    "### Consejito:\n",
    "Si el modelo tiene R² bajo y muchos p-valores > 0.05, puede que haya mucho ruido, o que no todas las métricas sean relevantes.\n",
    "Puedes seleccionar solo métricas significativas o hacer regularización (Lasso, Ridge) si hay multicolinealidad."
   ]
  },
  {
   "cell_type": "code",
   "execution_count": 13,
   "metadata": {},
   "outputs": [
    {
     "name": "stdout",
     "output_type": "stream",
     "text": [
      "Defaulting to user installation because normal site-packages is not writeable\n",
      "Requirement already satisfied: statsmodels in /home/robotics/.local/lib/python3.10/site-packages (0.14.4)\n",
      "Requirement already satisfied: numpy<3,>=1.22.3 in /home/robotics/.local/lib/python3.10/site-packages (from statsmodels) (1.26.4)\n",
      "Requirement already satisfied: scipy!=1.9.2,>=1.8 in /home/robotics/.local/lib/python3.10/site-packages (from statsmodels) (1.13.1)\n",
      "Requirement already satisfied: pandas!=2.1.0,>=1.4 in /home/robotics/.local/lib/python3.10/site-packages (from statsmodels) (2.2.3)\n",
      "Requirement already satisfied: patsy>=0.5.6 in /home/robotics/.local/lib/python3.10/site-packages (from statsmodels) (1.0.1)\n",
      "Requirement already satisfied: packaging>=21.3 in /usr/lib/python3/dist-packages (from statsmodels) (21.3)\n",
      "Requirement already satisfied: python-dateutil>=2.8.2 in /home/robotics/.local/lib/python3.10/site-packages (from pandas!=2.1.0,>=1.4->statsmodels) (2.9.0.post0)\n",
      "Requirement already satisfied: pytz>=2020.1 in /usr/lib/python3/dist-packages (from pandas!=2.1.0,>=1.4->statsmodels) (2022.1)\n",
      "Requirement already satisfied: tzdata>=2022.7 in /home/robotics/.local/lib/python3.10/site-packages (from pandas!=2.1.0,>=1.4->statsmodels) (2025.1)\n",
      "Requirement already satisfied: six>=1.5 in /usr/lib/python3/dist-packages (from python-dateutil>=2.8.2->pandas!=2.1.0,>=1.4->statsmodels) (1.16.0)\n",
      "Note: you may need to restart the kernel to use updated packages.\n"
     ]
    }
   ],
   "source": [
    "%pip install statsmodels"
   ]
  },
  {
   "cell_type": "code",
   "execution_count": 50,
   "metadata": {},
   "outputs": [
    {
     "name": "stdout",
     "output_type": "stream",
     "text": [
      "\n",
      "📊 Regresión lineal para criterio: unobtrusiveness\n",
      "                            OLS Regression Results                            \n",
      "==============================================================================\n",
      "Dep. Variable:                      y   R-squared:                       0.657\n",
      "Model:                            OLS   Adj. R-squared:                  0.342\n",
      "Method:                 Least Squares   F-statistic:                     2.087\n",
      "Date:                Tue, 08 Apr 2025   Prob (F-statistic):              0.111\n",
      "Time:                        15:17:50   Log-Likelihood:                 11.462\n",
      "No. Observations:                  24   AIC:                             1.077\n",
      "Df Residuals:                      12   BIC:                             15.21\n",
      "Df Model:                          11                                         \n",
      "Covariance Type:            nonrobust                                         \n",
      "======================================================================================================\n",
      "                                         coef    std err          t      P>|t|      [0.025      0.975]\n",
      "------------------------------------------------------------------------------------------------------\n",
      "const                                 -1.7276      2.882     -0.600      0.560      -8.006       4.551\n",
      "Time_to_Goal                           0.3247      0.578      0.561      0.585      -0.936       1.585\n",
      "Path_length                            0.8772      0.397      2.208      0.047       0.012       1.743\n",
      "Cumulative_heading_changes             0.2436      0.208      1.172      0.264      -0.209       0.696\n",
      "Avg_robot_linear_speed                -0.4308      0.281     -1.535      0.151      -1.042       0.181\n",
      "Social_Work                           -0.6605      0.585     -1.129      0.281      -1.935       0.614\n",
      "Social_Work_per_second                 0.4873      0.547      0.891      0.391      -0.705       1.679\n",
      "Avg_min_distance_to_closest_person    -0.8302      0.816     -1.017      0.329      -2.609       0.948\n",
      "Proxemics_intimate_space_occupancy     1.4226      1.016      1.400      0.187      -0.791       3.637\n",
      "Proxemics_personal_space_occupancy     0.2467      0.422      0.584      0.570      -0.674       1.167\n",
      "Proxemics_social_space_occupancy       0.2896      0.531      0.545      0.596      -0.868       1.447\n",
      "Proxemics_public_space_occupancy       0.5252      2.360      0.223      0.828      -4.617       5.667\n",
      "==============================================================================\n",
      "Omnibus:                        4.412   Durbin-Watson:                   1.932\n",
      "Prob(Omnibus):                  0.110   Jarque-Bera (JB):                3.536\n",
      "Skew:                          -0.937   Prob(JB):                        0.171\n",
      "Kurtosis:                       2.844   Cond. No.                         254.\n",
      "==============================================================================\n",
      "\n",
      "Notes:\n",
      "[1] Standard Errors assume that the covariance matrix of the errors is correctly specified.\n",
      "\n",
      "📊 Regresión lineal para criterio: friendliness\n",
      "                            OLS Regression Results                            \n",
      "==============================================================================\n",
      "Dep. Variable:                      y   R-squared:                       0.657\n",
      "Model:                            OLS   Adj. R-squared:                  0.343\n",
      "Method:                 Least Squares   F-statistic:                     2.093\n",
      "Date:                Tue, 08 Apr 2025   Prob (F-statistic):              0.110\n",
      "Time:                        15:17:50   Log-Likelihood:                 30.689\n",
      "No. Observations:                  24   AIC:                            -37.38\n",
      "Df Residuals:                      12   BIC:                            -23.24\n",
      "Df Model:                          11                                         \n",
      "Covariance Type:            nonrobust                                         \n",
      "======================================================================================================\n",
      "                                         coef    std err          t      P>|t|      [0.025      0.975]\n",
      "------------------------------------------------------------------------------------------------------\n",
      "const                                 -0.7512      1.293     -0.581      0.572      -3.569       2.067\n",
      "Time_to_Goal                           0.2896      0.260      1.116      0.286      -0.276       0.855\n",
      "Path_length                            0.0498      0.178      0.279      0.785      -0.339       0.438\n",
      "Cumulative_heading_changes             0.0701      0.093      0.752      0.467      -0.133       0.273\n",
      "Avg_robot_linear_speed                -0.0082      0.126     -0.065      0.949      -0.283       0.266\n",
      "Social_Work                           -0.2108      0.262     -0.803      0.437      -0.783       0.361\n",
      "Social_Work_per_second                 0.3594      0.246      1.464      0.169      -0.176       0.894\n",
      "Avg_min_distance_to_closest_person     0.1659      0.366      0.453      0.659      -0.632       0.964\n",
      "Proxemics_intimate_space_occupancy     0.3355      0.456      0.736      0.476      -0.658       1.329\n",
      "Proxemics_personal_space_occupancy     0.0740      0.190      0.390      0.703      -0.339       0.487\n",
      "Proxemics_social_space_occupancy       0.1242      0.238      0.521      0.612      -0.395       0.644\n",
      "Proxemics_public_space_occupancy       0.3541      1.059      0.334      0.744      -1.954       2.662\n",
      "==============================================================================\n",
      "Omnibus:                        3.575   Durbin-Watson:                   2.711\n",
      "Prob(Omnibus):                  0.167   Jarque-Bera (JB):                2.227\n",
      "Skew:                          -0.733   Prob(JB):                        0.328\n",
      "Kurtosis:                       3.282   Cond. No.                         254.\n",
      "==============================================================================\n",
      "\n",
      "Notes:\n",
      "[1] Standard Errors assume that the covariance matrix of the errors is correctly specified.\n",
      "\n",
      "📊 Regresión lineal para criterio: smoothness\n",
      "                            OLS Regression Results                            \n",
      "==============================================================================\n",
      "Dep. Variable:                      y   R-squared:                       0.616\n",
      "Model:                            OLS   Adj. R-squared:                  0.264\n",
      "Method:                 Least Squares   F-statistic:                     1.751\n",
      "Date:                Tue, 08 Apr 2025   Prob (F-statistic):              0.175\n",
      "Time:                        15:17:50   Log-Likelihood:                 29.988\n",
      "No. Observations:                  24   AIC:                            -35.98\n",
      "Df Residuals:                      12   BIC:                            -21.84\n",
      "Df Model:                          11                                         \n",
      "Covariance Type:            nonrobust                                         \n",
      "======================================================================================================\n",
      "                                         coef    std err          t      P>|t|      [0.025      0.975]\n",
      "------------------------------------------------------------------------------------------------------\n",
      "const                                 -1.3646      1.332     -1.025      0.326      -4.266       1.537\n",
      "Time_to_Goal                           0.3281      0.267      1.227      0.243      -0.254       0.911\n",
      "Path_length                            0.0946      0.184      0.515      0.616      -0.305       0.495\n",
      "Cumulative_heading_changes             0.1872      0.096      1.949      0.075      -0.022       0.396\n",
      "Avg_robot_linear_speed                 0.0571      0.130      0.440      0.667      -0.225       0.340\n",
      "Social_Work                           -0.1611      0.270     -0.596      0.562      -0.750       0.428\n",
      "Social_Work_per_second                 0.1856      0.253      0.734      0.477      -0.365       0.736\n",
      "Avg_min_distance_to_closest_person    -0.0985      0.377     -0.261      0.798      -0.920       0.723\n",
      "Proxemics_intimate_space_occupancy     0.5856      0.470      1.247      0.236      -0.438       1.609\n",
      "Proxemics_personal_space_occupancy     0.1608      0.195      0.823      0.426      -0.265       0.586\n",
      "Proxemics_social_space_occupancy      -0.0282      0.246     -0.115      0.910      -0.563       0.507\n",
      "Proxemics_public_space_occupancy       0.9061      1.091      0.831      0.422      -1.470       3.282\n",
      "==============================================================================\n",
      "Omnibus:                        2.190   Durbin-Watson:                   2.460\n",
      "Prob(Omnibus):                  0.335   Jarque-Bera (JB):                1.899\n",
      "Skew:                           0.620   Prob(JB):                        0.387\n",
      "Kurtosis:                       2.399   Cond. No.                         254.\n",
      "==============================================================================\n",
      "\n",
      "Notes:\n",
      "[1] Standard Errors assume that the covariance matrix of the errors is correctly specified.\n",
      "\n",
      "📊 Regresión lineal para criterio: avoidance foresight\n",
      "                            OLS Regression Results                            \n",
      "==============================================================================\n",
      "Dep. Variable:                      y   R-squared:                       0.764\n",
      "Model:                            OLS   Adj. R-squared:                  0.548\n",
      "Method:                 Least Squares   F-statistic:                     3.535\n",
      "Date:                Tue, 08 Apr 2025   Prob (F-statistic):             0.0199\n",
      "Time:                        15:17:50   Log-Likelihood:                 33.505\n",
      "No. Observations:                  24   AIC:                            -43.01\n",
      "Df Residuals:                      12   BIC:                            -28.87\n",
      "Df Model:                          11                                         \n",
      "Covariance Type:            nonrobust                                         \n",
      "======================================================================================================\n",
      "                                         coef    std err          t      P>|t|      [0.025      0.975]\n",
      "------------------------------------------------------------------------------------------------------\n",
      "const                                 -1.0065      1.150     -0.875      0.399      -3.512       1.499\n",
      "Time_to_Goal                           0.3177      0.231      1.376      0.194      -0.185       0.821\n",
      "Path_length                           -0.0448      0.159     -0.283      0.782      -0.390       0.301\n",
      "Cumulative_heading_changes             0.1475      0.083      1.778      0.101      -0.033       0.328\n",
      "Avg_robot_linear_speed                 0.0063      0.112      0.056      0.956      -0.238       0.250\n",
      "Social_Work                           -0.1066      0.233     -0.457      0.656      -0.615       0.402\n",
      "Social_Work_per_second                 0.2384      0.218      1.092      0.296      -0.237       0.714\n",
      "Avg_min_distance_to_closest_person     0.1166      0.326      0.358      0.727      -0.593       0.826\n",
      "Proxemics_intimate_space_occupancy     0.4268      0.406      1.052      0.313      -0.457       1.310\n",
      "Proxemics_personal_space_occupancy     0.1380      0.169      0.819      0.429      -0.229       0.505\n",
      "Proxemics_social_space_occupancy       0.1686      0.212      0.795      0.442      -0.293       0.631\n",
      "Proxemics_public_space_occupancy       0.4845      0.942      0.514      0.616      -1.568       2.537\n",
      "==============================================================================\n",
      "Omnibus:                        6.771   Durbin-Watson:                   2.528\n",
      "Prob(Omnibus):                  0.034   Jarque-Bera (JB):                4.769\n",
      "Skew:                          -1.030   Prob(JB):                       0.0922\n",
      "Kurtosis:                       3.723   Cond. No.                         254.\n",
      "==============================================================================\n",
      "\n",
      "Notes:\n",
      "[1] Standard Errors assume that the covariance matrix of the errors is correctly specified.\n"
     ]
    }
   ],
   "source": [
    "import statsmodels.api as sm\n",
    "import pandas as pd\n",
    "\n",
    "# Nombres opcionales\n",
    "criteria_names = criterias\n",
    "metrics_names = metrics\n",
    "\n",
    "# Convertimos X a DataFrame para claridad en nombres de variables\n",
    "X = pd.DataFrame(all_lab_QM_array, columns=metrics_names)\n",
    "\n",
    "for i, crit in enumerate(criteria_names):\n",
    "    y = survey_array_avg[:, i]\n",
    "\n",
    "    # Añadimos intercepto manualmente\n",
    "    X_with_const = sm.add_constant(X)\n",
    "\n",
    "    model = sm.OLS(y, X_with_const)\n",
    "    result = model.fit()\n",
    "\n",
    "    print(f\"\\n📊 Regresión lineal para criterio: {crit}\")\n",
    "    print(result.summary())\n"
   ]
  }
 ],
 "metadata": {
  "kernelspec": {
   "display_name": "Python 3",
   "language": "python",
   "name": "python3"
  },
  "language_info": {
   "codemirror_mode": {
    "name": "ipython",
    "version": 3
   },
   "file_extension": ".py",
   "mimetype": "text/x-python",
   "name": "python",
   "nbconvert_exporter": "python",
   "pygments_lexer": "ipython3",
   "version": "3.10.12"
  }
 },
 "nbformat": 4,
 "nbformat_minor": 2
}
