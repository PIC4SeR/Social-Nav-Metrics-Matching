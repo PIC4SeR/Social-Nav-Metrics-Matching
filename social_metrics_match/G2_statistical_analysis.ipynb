{
 "cells": [
  {
   "cell_type": "markdown",
   "metadata": {},
   "source": [
    "# Objective: Indentify which quantitative metrics are correlated (or well-predicted) with the human score in Likert scale. \n",
    "\n",
    "  - 1. ANOVA (variance analysis). Helps to verify whether the differences in the metric produce significant differences in the rating.\n",
    "  - 2. Analysis of correlation between each metric and rating (average values) (Spearman and/or Kendall).\n",
    "  - 3. Optionally, to model the relation between metric and rating, ordinal regression or linear regression if Likert is considered continuous."
   ]
  },
  {
   "cell_type": "markdown",
   "metadata": {},
   "source": [
    "**Experiments Scenarios**:\n",
    "1. \"Passing\"\n",
    "2. \"Overtaking\"\n",
    "3. \"Crossing 1\"\n",
    "4. \"Crossing 2\"\n",
    "5. \"Advanced 1\"\n",
    "6. \"Advanced 2\"\n",
    "7. \"Advanced 3\"\n",
    "8. \"Advanced 4\"\n",
    "\n",
    "**Labels**:\n",
    "1. \"Good\"\n",
    "2. \"Mid\"\n",
    "3. \"Bad\"\n",
    "\n",
    "**QM Metrics**\n",
    "- [0] Time to Goal\n",
    "- [1] Path length\n",
    "- [2] Cumulative heading changes\n",
    "- [3] Avg robot linear speed\n",
    "- [4] Social Work \n",
    "- [5] Social Work (per second)\n",
    "- [6] Average minimum distance to closest person\n",
    "- [7] Proxemics: intimate space occupancy\n",
    "- [8] Proxemics: personal space occupancy\n",
    "- [9] Proxemics: social space occupancy\n",
    "- [10] Proxemics: public space occupancy\n",
    "\n",
    "**HM Metrics**\n",
    "- [0] Unobtrusiveness\n",
    "- [1] Friendliness\n",
    "- [2] Smoothness\n",
    "- [3] Avoidance Foresight\n",
    "\n",
    "Therefore we have 24 scenarios. 11 cuantitative metrics and 4 Likert-scale metric of 70 users. "
   ]
  },
  {
   "cell_type": "markdown",
   "metadata": {},
   "source": [
    "First, we load the data:"
   ]
  },
  {
   "cell_type": "code",
   "execution_count": 1,
   "metadata": {},
   "outputs": [],
   "source": [
    "import yaml\n",
    "import numpy as np\n",
    "import os\n",
    "from os.path import expanduser"
   ]
  },
  {
   "cell_type": "code",
   "execution_count": 78,
   "metadata": {},
   "outputs": [
    {
     "name": "stdout",
     "output_type": "stream",
     "text": [
      "lab data path:  /home/robotics/Social-Nav-Metrics-Matching/social_metrics_match/data_folder/validation_of_metrics_quantitative_and_lab_qualitative.ods\n",
      "survey data path:  /home/robotics/Social-Nav-Metrics-Matching/social_metrics_match/data_folder/qualitative_metrics_survey.xlsx\n",
      "results dir path:  /home/robotics/social_metrics_results\n"
     ]
    }
   ],
   "source": [
    "home = expanduser(\"~\")\n",
    "# Load config params for experiments\n",
    "config = yaml.safe_load(open('params.yaml'))['social_metrics_match']\n",
    "\n",
    "lab_data_path = home + config['data']['repo_dir'] + config['data']['lab_data_path']\n",
    "survey_data_path = home + config['data']['repo_dir'] + config['data']['survey_data_path']\n",
    "results_dir = home + config['data']['results_path']\n",
    "print(\"lab data path: \", lab_data_path)\n",
    "print(\"survey data path: \", survey_data_path)\n",
    "print(\"results dir path: \", results_dir)\n",
    "\n",
    "# normalize Likert scale from 1-5 to 0-1\n",
    "normalizeHM = False\n",
    "# normalize quantitative metrics\n",
    "normalizeQM = False\n",
    "# weight the qualitative metrics according to robotics expertise\n",
    "weightQual = False"
   ]
  },
  {
   "cell_type": "markdown",
   "metadata": {},
   "source": [
    "## Extract LAB data arrays"
   ]
  },
  {
   "cell_type": "code",
   "execution_count": 79,
   "metadata": {},
   "outputs": [],
   "source": [
    "from utils.data_organization import organize_dict_lab_data, get_all_lab_data_arr, np_extract_exp_lab, np_single_lab_run\n",
    "from utils.data_organization  import organize_dict_survey, weighted_avg_survey_data, get_robotics_knowledge, datacube_qual_survey_data"
   ]
  },
  {
   "cell_type": "code",
   "execution_count": 4,
   "metadata": {},
   "outputs": [
    {
     "name": "stdout",
     "output_type": "stream",
     "text": [
      "Defaulting to user installation because normal site-packages is not writeable\n",
      "Requirement already satisfied: odfpy in /home/robotics/.local/lib/python3.10/site-packages (1.4.1)\n",
      "Requirement already satisfied: defusedxml in /usr/lib/python3/dist-packages (from odfpy) (0.7.1)\n",
      "Note: you may need to restart the kernel to use updated packages.\n"
     ]
    }
   ],
   "source": [
    "%pip install odfpy"
   ]
  },
  {
   "cell_type": "code",
   "execution_count": 80,
   "metadata": {},
   "outputs": [
    {
     "name": "stdout",
     "output_type": "stream",
     "text": [
      "Lab data keys: dict_keys(['Passing', 'Overtaking', 'Crossing 1', 'Crossing 2', 'Advanced 1', 'Advanced 2', 'Advanced 3', 'Advanced 4'])\n",
      "Lab data keys for passing: dict_keys(['Good', 'Mid', 'Bad'])\n",
      "Lab data keys for pasing-good-qualitative: 4\n",
      "Passing single run QM shape:(11,), passing single run HM shape: (4,)\n",
      "Passing good QM: [1.02326076e+01 4.55598068e+00 4.04913597e+00 1.99936767e-01\n",
      " 1.99432749e+03 1.81716719e+02 2.37741413e+00 9.28961749e+00\n",
      " 1.23341140e+01 7.28337237e+01 5.54254489e+00],\n",
      "Passing good HM: [4 4 4 5]\n",
      "passing QM shape:(11, 3), passing HM shape: (4, 3)\n",
      "passing QM: [[1.02326076e+01 1.13191001e+01 1.63071399e+01]\n",
      " [4.55598068e+00 4.39150601e+00 4.11596254e+00]\n",
      " [4.04913597e+00 5.53722229e+00 1.25834523e+00]\n",
      " [1.99936767e-01 1.99147126e-01 1.27926288e-01]\n",
      " [1.99432749e+03 2.32556286e+03 2.40475048e+03]\n",
      " [1.81716719e+02 2.02428515e+02 1.42381909e+02]\n",
      " [2.37741413e+00 1.83902313e+00 1.47213598e+00]\n",
      " [9.28961749e+00 2.34612600e+01 4.01761145e+01]\n",
      " [1.23341140e+01 1.62201303e+01 9.24600991e+00]\n",
      " [7.28337237e+01 5.57566980e+01 4.92019813e+01]\n",
      " [5.54254489e+00 4.56191166e+00 1.37589433e+00]],\n",
      "passing HM: [[4 3 2]\n",
      " [4 2 1]\n",
      " [4 2 1]\n",
      " [5 3 1]]\n",
      "All lab QM array: (24, 11), All lab HM array: (24, 4)\n",
      "All lab QM nonorm array: [[1.63071399e+01 4.11596254e+00 1.25834523e+00 1.27926288e-01\n",
      "  2.40475048e+03 1.42381909e+02 1.47213598e+00 4.01761145e+01\n",
      "  9.24600991e+00 4.92019813e+01 1.37589433e+00]\n",
      " [1.13191001e+01 4.39150601e+00 5.53722229e+00 1.99147126e-01\n",
      "  2.32556286e+03 2.02428515e+02 1.83902313e+00 2.34612600e+01\n",
      "  1.62201303e+01 5.57566980e+01 4.56191166e+00]\n",
      " [1.02326076e+01 4.55598068e+00 4.04913597e+00 1.99936767e-01\n",
      "  1.99432749e+03 1.81716719e+02 2.37741413e+00 9.28961749e+00\n",
      "  1.23341140e+01 7.28337237e+01 5.54254489e+00]\n",
      " [1.26821227e+01 5.50519117e+00 5.77378989e+00 2.03375968e-01\n",
      "  2.43506094e+03 1.82028079e+02 5.08652804e-01 3.51535836e+01\n",
      "  6.48464164e+01 0.00000000e+00 0.00000000e+00]\n",
      " [1.53706553e+01 5.49811761e+00 7.81185491e+00 2.08391297e-01\n",
      "  2.21929879e+03 1.38982049e+02 7.30733822e-01 2.31132075e+01\n",
      "  5.91391509e+01 1.77476415e+01 0.00000000e+00]\n",
      " [6.00463576e+01 3.86193964e+00 7.53582240e+00 4.14355201e-02\n",
      "  1.15096090e+04 1.91678721e+02 9.95910243e-01 0.00000000e+00\n",
      "  7.36240602e+01 2.63759398e+01 0.00000000e+00]\n",
      " [1.17964499e+01 4.03678334e+00 2.20496810e+00 1.58116006e-01\n",
      "  3.24378281e+03 2.59488208e+02 1.23341915e+00 0.00000000e+00\n",
      "  6.68017835e+01 3.31982165e+01 0.00000000e+00]\n",
      " [1.31418564e+01 4.22489084e+00 2.39084601e+00 1.09908237e-01\n",
      "  3.82295948e+03 2.76332114e+02 6.62857139e-01 4.92703046e+01\n",
      "  3.34073604e+01 1.73223350e+01 0.00000000e+00]\n",
      " [1.12893105e+01 4.38712723e+00 3.32995692e+00 1.47660979e-01\n",
      "  3.76768934e+03 3.13705031e+02 1.18380719e+00 0.00000000e+00\n",
      "  6.69463087e+01 3.30536913e+01 0.00000000e+00]\n",
      " [9.32551908e+00 3.79009179e+00 2.68420869e+00 1.88217547e-01\n",
      "  1.67597814e+03 1.66998507e+02 6.73876099e-01 2.90771909e+01\n",
      "  5.75159605e+01 1.34068485e+01 0.00000000e+00]\n",
      " [1.22602646e+01 4.58083477e+00 5.89441244e+00 1.79272450e-01\n",
      "  3.30261210e+03 2.52495675e+02 1.06055770e+00 1.44434629e+01\n",
      "  5.83038869e+01 2.72526502e+01 0.00000000e+00]\n",
      " [1.55077085e+01 4.71149106e+00 4.75398451e+00 8.16502748e-02\n",
      "  7.11865248e+03 4.36283233e+02 7.04602797e-01 4.21254802e+01\n",
      "  4.16133163e+01 1.62612036e+01 0.00000000e+00]\n",
      " [6.25506601e+01 3.95655575e+00 1.11327623e+01 3.48825358e-02\n",
      "  1.15039198e+05 1.83913644e+03 6.26497207e-01 4.25520374e+01\n",
      "  4.47081158e+01 1.27398468e+01 0.00000000e+00]\n",
      " [1.75491076e+01 5.92913979e+00 7.73193155e+00 1.69884357e-01\n",
      "  8.24059980e+04 4.23751367e+03 6.68892092e-01 3.37640977e+01\n",
      "  4.80733083e+01 1.81625940e+01 0.00000000e+00]\n",
      " [1.55002923e+01 6.16599103e+00 9.47812351e+00 1.84978552e-01\n",
      "  3.11143225e+04 1.91911966e+03 6.68966460e-01 3.71309771e+01\n",
      "  5.31392931e+01 9.72972973e+00 0.00000000e+00]\n",
      " [2.31741982e+01 4.57869556e+00 8.74881642e+00 1.20535455e-01\n",
      "  1.33857802e+04 5.54336405e+02 5.59125077e-01 4.90069983e+01\n",
      "  4.17249858e+01 9.26801589e+00 0.00000000e+00]\n",
      " [1.58087752e+01 4.66324697e+00 4.57580795e+00 1.61542295e-01\n",
      "  2.89417932e+03 1.74952287e+02 1.69989662e-01 8.22897196e+01\n",
      "  1.77102804e+01 0.00000000e+00 0.00000000e+00]\n",
      " [1.94818015e+01 6.93065064e+00 2.25569483e+01 1.83931595e-01\n",
      "  1.38115686e+04 6.83599588e+02 4.89255378e-01 4.49653486e+01\n",
      "  4.43130860e+01 1.07215654e+01 0.00000000e+00]\n",
      " [1.40762117e+01 5.01476619e+00 3.47903637e+00 1.79465044e-01\n",
      "  5.47032301e+03 3.40122250e+02 1.77829609e+00 2.41841914e+01\n",
      "  1.18564177e+01 5.37345903e+01 1.02248006e+01]\n",
      " [1.90547962e+01 4.50928858e+00 4.84767567e+00 1.78226628e-01\n",
      "  2.76072678e+03 1.39425750e+02 1.14719126e+00 3.45026178e+01\n",
      "  2.25654450e+01 4.29319372e+01 0.00000000e+00]\n",
      " [1.22447278e+01 5.09901103e+00 4.10966930e+00 1.94104094e-01\n",
      "  5.63083690e+03 4.32297912e+02 1.66919790e+00 2.11097205e+01\n",
      "  2.28619107e+01 5.60283688e+01 0.00000000e+00]\n",
      " [2.32398057e+01 5.16434907e+00 4.31757736e+00 1.46140345e-01\n",
      "  3.15764509e+03 1.30836037e+02 9.56338100e-01 5.67528736e+01\n",
      "  1.50862069e+01 1.88936782e+01 9.26724138e+00]\n",
      " [2.25736196e+01 6.95011685e+00 2.16027967e+01 1.41823592e-01\n",
      "  3.85936749e+03 1.26957598e+02 1.02090303e+00 4.03780069e+01\n",
      "  3.76002291e+01 1.38029782e+01 8.21878580e+00]\n",
      " [5.13612342e+01 1.20431327e+01 3.61913118e+01 1.21763372e-01\n",
      "  5.01598801e+03 9.42898874e+01 7.70977808e-01 4.94887526e+01\n",
      "  3.84643986e+01 6.04201524e+00 6.00483361e+00]], All lab HM nonorm array: [[2.   1.   1.   1.  ]\n",
      " [3.   2.   2.   3.  ]\n",
      " [4.   4.   4.   5.  ]\n",
      " [4.   4.   3.   3.  ]\n",
      " [4.   3.   1.   2.  ]\n",
      " [4.   3.   2.   4.  ]\n",
      " [4.   4.   2.5  4.  ]\n",
      " [2.5  2.   3.5  2.  ]\n",
      " [5.   5.   4.   4.  ]\n",
      " [4.   3.5  3.5  3.5 ]\n",
      " [4.   3.   3.5  4.  ]\n",
      " [2.5  2.5  2.   2.  ]\n",
      " [3.   2.   1.   2.  ]\n",
      " [3.   3.   2.   3.  ]\n",
      " [5.   5.   3.5  5.  ]\n",
      " [4.   4.   3.66 3.66]\n",
      " [2.3  2.3  2.6  3.  ]\n",
      " [3.3  2.6  3.3  2.3 ]\n",
      " [4.3  4.3  2.3  4.  ]\n",
      " [2.6  2.   3.3  3.3 ]\n",
      " [5.   5.   4.   5.  ]\n",
      " [0.   4.   4.   4.  ]\n",
      " [0.   5.   5.   4.  ]\n",
      " [0.   3.   2.   3.  ]]\n"
     ]
    }
   ],
   "source": [
    "dict_lab_data = organize_dict_lab_data(lab_data_path)\n",
    "print(f\"Lab data keys: {dict_lab_data.keys()}\")\n",
    "print(f\"Lab data keys for passing: {dict_lab_data['Passing'].keys()}\")\n",
    "print(f\"Lab data keys for pasing-good-qualitative: {dict_lab_data['Passing']['Good']['qualitative']['friendliness']}\")\n",
    "\n",
    "# Extract the np arrays of a specific experiments identified by its keys\n",
    "passing_good_QM_array, passing_good_HM_array = np_single_lab_run(lab_dict=dict_lab_data, experiment='Passing', label='Good', normalizeHM=normalizeHM)\n",
    "print(f\"Passing single run QM shape:{passing_good_QM_array.shape}, passing single run HM shape: {passing_good_HM_array.shape}\")\n",
    "print(f\"Passing good QM: {passing_good_QM_array},\\nPassing good HM: {passing_good_HM_array}\") \n",
    "\n",
    "# Extract the np arrays of a lab scenario (all the 3 runs with different labels), dividing QM and HM #'Advanced 4'\n",
    "passing_QM_array, passing_HM_array = np_extract_exp_lab(dict_lab_data, experiment='Passing', order=False, normalizeQM=normalizeQM, normalizeHM=normalizeHM, normalization=\"rescale\")\n",
    "print(f\"passing QM shape:{passing_QM_array.shape}, passing HM shape: {passing_HM_array.shape}\")\n",
    "print(f\"passing QM: {passing_QM_array},\\npassing HM: {passing_HM_array}\")\n",
    "\n",
    "# Starting from the complete dataframe with lab data, Extract the np arrays of all lab scenarios dividing QM and HM\n",
    "all_lab_QM_array, all_lab_HM_array = get_all_lab_data_arr(dict_lab_data, normalizeQM=normalizeQM, normalizeHM=normalizeHM, normalization=\"rescale\")\n",
    "all_lab_QM_nonorm_array, all_lab_HM_nonorm_array = get_all_lab_data_arr(dict_lab_data, normalizeQM=normalizeQM, normalizeHM=normalizeHM, normalization=\"rescale\")\n",
    "print(f\"All lab QM array: {all_lab_QM_array.shape}, All lab HM array: {all_lab_HM_array.shape}\")\n",
    "print(f\"All lab QM nonorm array: {all_lab_QM_nonorm_array}, All lab HM nonorm array: {all_lab_HM_nonorm_array}\")"
   ]
  },
  {
   "cell_type": "markdown",
   "metadata": {},
   "source": [
    "**SURVEY DATA**"
   ]
  },
  {
   "cell_type": "code",
   "execution_count": 81,
   "metadata": {},
   "outputs": [
    {
     "name": "stdout",
     "output_type": "stream",
     "text": [
      "Defaulting to user installation because normal site-packages is not writeable\n",
      "Requirement already satisfied: openpyxl in /home/robotics/.local/lib/python3.10/site-packages (3.1.5)\n",
      "Requirement already satisfied: et-xmlfile in /home/robotics/.local/lib/python3.10/site-packages (from openpyxl) (2.0.0)\n",
      "Note: you may need to restart the kernel to use updated packages.\n"
     ]
    }
   ],
   "source": [
    "%pip install openpyxl"
   ]
  },
  {
   "cell_type": "code",
   "execution_count": 82,
   "metadata": {},
   "outputs": [
    {
     "name": "stdout",
     "output_type": "stream",
     "text": [
      "survey avg shape: (24, 4),\n",
      "survey weighted std shape:  (24, 4)\n",
      "survey avg[0]: [1.8115942  2.24637681 2.52173913 2.36231884],\n",
      "survey weighted std[0]:  [0.99673906 1.10867197 1.05787174 1.27371435]\n"
     ]
    }
   ],
   "source": [
    "dict_survey_data = organize_dict_survey(survey_data_path)\n",
    "robot_knowledge_array = get_robotics_knowledge(survey_data_path)\n",
    "\n",
    "# To extract np arrays of all the survey data\n",
    "survey_datacube = datacube_qual_survey_data(dict_survey_data, normalize=normalizeHM)\n",
    "\n",
    "# To directly extract the average and std: If Weighted average set w_avg=True (use robotics background knowledge as weights)\n",
    "survey_array_avg, survey_array_std = weighted_avg_survey_data(dict_survey_data, robot_knowledge_array, w_avg=weightQual, normalize=normalizeHM)\n",
    "print(f\"survey avg shape: {survey_array_avg.shape},\\nsurvey weighted std shape:  {survey_array_std.shape}\") \n",
    "print(f\"survey avg[0]: {survey_array_avg[0]},\\nsurvey weighted std[0]:  {survey_array_std[0]}\")"
   ]
  },
  {
   "cell_type": "markdown",
   "metadata": {},
   "source": [
    "# Step 1: ANOVA (variance analysis)"
   ]
  },
  {
   "cell_type": "markdown",
   "metadata": {},
   "source": [
    "# Step 2: Non-parametric correlations (Spearman and Kendall)"
   ]
  },
  {
   "cell_type": "code",
   "execution_count": null,
   "metadata": {},
   "outputs": [],
   "source": [
    "%pip install scipy"
   ]
  },
  {
   "cell_type": "code",
   "execution_count": 83,
   "metadata": {},
   "outputs": [
    {
     "name": "stdout",
     "output_type": "stream",
     "text": [
      "Spearman correlation results:\n",
      "Time_to_Goal - unobtrusiveness: rho = -0.4628788306317543, p-value = 0.022743230119448312\n",
      "Time_to_Goal - friendliness: rho = -0.35212208006418966, p-value = 0.09150937477810116\n",
      "Time_to_Goal - smoothness: rho = -0.46682629040155954, p-value = 0.021463148067509766\n",
      "Time_to_Goal - avoidance foresight: rho = -0.451500695169649, p-value = 0.02678110538810674\n",
      "Path_length - unobtrusiveness: rho = -0.33137421459150046, p-value = 0.11369468923636045\n",
      "Path_length - friendliness: rho = -0.13667037470971022, p-value = 0.5242540627514527\n",
      "Path_length - smoothness: rho = -0.20839682488569153, p-value = 0.3284622881019089\n",
      "Path_length - avoidance foresight: rho = 0.03175293906299073, p-value = 0.8829035326134038\n",
      "Cumulative_heading_changes - unobtrusiveness: rho = -0.25517120860790965, p-value = 0.22882483020715536\n",
      "Cumulative_heading_changes - friendliness: rho = -0.12187167171566515, p-value = 0.5705131926471092\n",
      "Cumulative_heading_changes - smoothness: rho = -0.3911247297959013, p-value = 0.05877069789110038\n",
      "Cumulative_heading_changes - avoidance foresight: rho = -0.18225317078620706, p-value = 0.3940127499412991\n",
      "Avg_robot_linear_speed - unobtrusiveness: rho = 0.2512521968716107, p-value = 0.2362999014300024\n",
      "Avg_robot_linear_speed - friendliness: rho = 0.19586518668589042, p-value = 0.35901472311426785\n",
      "Avg_robot_linear_speed - smoothness: rho = 0.25581906687429357, p-value = 0.22760436974599912\n",
      "Avg_robot_linear_speed - avoidance foresight: rho = 0.38581995820373666, p-value = 0.06259405057883356\n",
      "Social_Work - unobtrusiveness: rho = 0.13237550753720911, p-value = 0.5374929521286652\n",
      "Social_Work - friendliness: rho = 0.15538638143747308, p-value = 0.4684404024228893\n",
      "Social_Work - smoothness: rho = -0.026539052856006645, p-value = 0.9020319452998855\n",
      "Social_Work - avoidance foresight: rho = -0.00391474591187557, p-value = 0.9855156394587792\n",
      "Social_Work_per_second - unobtrusiveness: rho = 0.46897507111044145, p-value = 0.02079123600870911\n",
      "Social_Work_per_second - friendliness: rho = 0.2990208516737928, p-value = 0.15577841552867033\n",
      "Social_Work_per_second - smoothness: rho = 0.22014361877277647, p-value = 0.3012969040909449\n",
      "Social_Work_per_second - avoidance foresight: rho = 0.19530232382579232, p-value = 0.3604247547952051\n",
      "Avg_min_distance_to_closest_person - unobtrusiveness: rho = 0.25299397986552136, p-value = 0.2329580761849298\n",
      "Avg_min_distance_to_closest_person - friendliness: rho = 0.3643092472357562, p-value = 0.08008583000053282\n",
      "Avg_min_distance_to_closest_person - smoothness: rho = 0.40939752028692217, p-value = 0.046965177875873926\n",
      "Avg_min_distance_to_closest_person - avoidance foresight: rho = 0.35493696267671837, p-value = 0.08876876206317005\n",
      "Proxemics_intimate_space_occupancy - unobtrusiveness: rho = -0.7748966571950828, p-value = 8.755843123572338e-06\n",
      "Proxemics_intimate_space_occupancy - friendliness: rho = -0.6268786905407461, p-value = 0.0010451694858213416\n",
      "Proxemics_intimate_space_occupancy - smoothness: rho = -0.5521445809072901, p-value = 0.005149935030908483\n",
      "Proxemics_intimate_space_occupancy - avoidance foresight: rho = -0.626469367160152, p-value = 0.0010555012125618515\n",
      "Proxemics_personal_space_occupancy - unobtrusiveness: rho = 0.509471525718864, p-value = 0.010992595824139719\n",
      "Proxemics_personal_space_occupancy - friendliness: rho = 0.32818300169146974, p-value = 0.11742852262928104\n",
      "Proxemics_personal_space_occupancy - smoothness: rho = 0.054383305032800505, p-value = 0.8007422889751968\n",
      "Proxemics_personal_space_occupancy - avoidance foresight: rho = 0.27185735499135905, p-value = 0.198760192949176\n",
      "Proxemics_social_space_occupancy - unobtrusiveness: rho = 0.3379793825855052, p-value = 0.10624373004632387\n",
      "Proxemics_social_space_occupancy - friendliness: rho = 0.29952122803372067, p-value = 0.15505395781229564\n",
      "Proxemics_social_space_occupancy - smoothness: rho = 0.4530026538575068, p-value = 0.026217326137019215\n",
      "Proxemics_social_space_occupancy - avoidance foresight: rho = 0.32499456936013715, p-value = 0.12124767100118757\n",
      "Proxemics_public_space_occupancy - unobtrusiveness: rho = -0.3979028795614519, p-value = 0.05415066175049111\n",
      "Proxemics_public_space_occupancy - friendliness: rho = 0.009753583576289967, p-value = 0.9639218352383684\n",
      "Proxemics_public_space_occupancy - smoothness: rho = 0.11753366689560742, p-value = 0.5844070823297316\n",
      "Proxemics_public_space_occupancy - avoidance foresight: rho = 0.041696419414892154, p-value = 0.8466074210847722\n"
     ]
    }
   ],
   "source": [
    "from scipy import stats\n",
    "\n",
    "# All lab QM array: (24, 11), All lab HM array: (24, 4)\n",
    "# Now, we compare each metric with the survey data for each of the 4 criteria\n",
    "# example dict_spearman = {'social_work': {'friendliness': {'rho': 0.5, 'p': 0.6}}}\n",
    "# example dict_kendall = {'social_work': {'friendliness': {'tau': 0.5, 'p': 0.6}}}\n",
    "metrics = ['Time_to_Goal', 'Path_length', 'Cumulative_heading_changes', 'Avg_robot_linear_speed', 'Social_Work', 'Social_Work_per_second', 'Avg_min_distance_to_closest_person', 'Proxemics_intimate_space_occupancy', 'Proxemics_personal_space_occupancy', 'Proxemics_social_space_occupancy', 'Proxemics_public_space_occupancy']\n",
    "criterias = dict_lab_data['Passing']['Good']['qualitative'].keys()\n",
    "dict_spearman = {} \n",
    "dict_kendall = {}\n",
    "# weighted_survey_array_avg shape: (24, 4)\n",
    "\n",
    "for i, metric in enumerate(metrics):\n",
    "    dict_spearman[metric] = {}\n",
    "    dict_kendall[metric] = {}\n",
    "    for j, criteria in enumerate(dict_lab_data['Passing']['Good']['qualitative'].keys()):\n",
    "        # Spearman correlation\n",
    "        rho, pval = stats.spearmanr(all_lab_QM_array[:, i], survey_array_avg[:,j])\n",
    "        dict_spearman[metric][criteria] = {}\n",
    "        dict_spearman[metric][criteria]['rho'] = rho\n",
    "        dict_spearman[metric][criteria]['p'] = pval\n",
    "        # Kendall correlation\n",
    "        tau, pval = stats.kendalltau(all_lab_QM_array[:, i], survey_array_avg[:,j])\n",
    "        dict_kendall[metric][criteria] = {}\n",
    "        dict_kendall[metric][criteria]['tau'] = tau\n",
    "        dict_kendall[metric][criteria]['p'] = pval\n",
    "\n",
    "# Print the results\n",
    "print(\"Spearman correlation results:\")\n",
    "for metric, criteria_dict in dict_spearman.items():\n",
    "    for criteria, result in criteria_dict.items():\n",
    "        print(f\"{metric} - {criteria}: rho = {result['rho']}, p-value = {result['p']}\")\n"
   ]
  },
  {
   "cell_type": "markdown",
   "metadata": {},
   "source": [
    "### Now we check for possible candidates!\n",
    "\n",
    "Spearman:\n",
    "- rho [-1,1]: \n",
    "    * |rho| > 0.7           -- strong correlation\n",
    "    * 0.4 < |rho| <= 0.7    -- moderate\n",
    "    * 0.2 < |rho| <= 0.4    -- light\n",
    "    * <= 0.2                -- none\n",
    "- p: if p < 0.05            -- correlation is statistically significant\n",
    "\n",
    "Kendall:\n",
    "- tau:\n",
    "    * |tau| > 0.6           -- strong\n",
    "    * 0.3 < |tau| <= 0.6    -- moderate\n",
    "    * 0.1 < |tau| <= 0.3    -- light\n",
    "    * <= 0.1                -- none\n",
    "- p: if p < 0.05            -- correlation is statitically significant"
   ]
  },
  {
   "cell_type": "code",
   "execution_count": 84,
   "metadata": {},
   "outputs": [
    {
     "name": "stdout",
     "output_type": "stream",
     "text": [
      "\n",
      "📊 Métricas candidatas según Spearman:\n",
      "✅ Time_to_Goal - unobtrusiveness: rho = -0.463, p = 0.023\n",
      "✅ Time_to_Goal - smoothness: rho = -0.467, p = 0.021\n",
      "✅ Time_to_Goal - avoidance foresight: rho = -0.452, p = 0.027\n",
      "✅ Social_Work_per_second - unobtrusiveness: rho = 0.469, p = 0.021\n",
      "✅ Avg_min_distance_to_closest_person - smoothness: rho = 0.409, p = 0.047\n",
      "✅ Proxemics_intimate_space_occupancy - unobtrusiveness: rho = -0.775, p = 0.000\n",
      "✅ Proxemics_intimate_space_occupancy - friendliness: rho = -0.627, p = 0.001\n",
      "✅ Proxemics_intimate_space_occupancy - smoothness: rho = -0.552, p = 0.005\n",
      "✅ Proxemics_intimate_space_occupancy - avoidance foresight: rho = -0.626, p = 0.001\n",
      "✅ Proxemics_personal_space_occupancy - unobtrusiveness: rho = 0.509, p = 0.011\n",
      "✅ Proxemics_social_space_occupancy - smoothness: rho = 0.453, p = 0.026\n",
      "\n",
      "📊 Métricas candidatas según Kendall:\n",
      "✅ Time_to_Goal - unobtrusiveness: tau = -0.366, p = 0.013\n",
      "✅ Time_to_Goal - smoothness: tau = -0.310, p = 0.035\n",
      "✅ Time_to_Goal - avoidance foresight: tau = -0.320, p = 0.029\n",
      "✅ Social_Work_per_second - unobtrusiveness: tau = 0.330, p = 0.025\n",
      "✅ Proxemics_intimate_space_occupancy - unobtrusiveness: tau = -0.582, p = 0.000\n",
      "✅ Proxemics_intimate_space_occupancy - friendliness: tau = -0.451, p = 0.002\n",
      "✅ Proxemics_intimate_space_occupancy - smoothness: tau = -0.352, p = 0.017\n",
      "✅ Proxemics_intimate_space_occupancy - avoidance foresight: tau = -0.420, p = 0.004\n",
      "✅ Proxemics_personal_space_occupancy - unobtrusiveness: tau = 0.366, p = 0.013\n",
      "✅ Proxemics_public_space_occupancy - unobtrusiveness: tau = -0.324, p = 0.050\n"
     ]
    }
   ],
   "source": [
    "# Umbrales para considerar correlación significativa y fuerte\n",
    "SPEARMAN_THRESH = 0.4  # fuerza\n",
    "KENDALL_THRESH = 0.3   # fuerza\n",
    "PVAL_THRESH = 0.05     # significancia\n",
    "\n",
    "# Resultados filtrados\n",
    "good_spearman = {}\n",
    "good_kendall = {}\n",
    "\n",
    "print(\"\\n📊 Métricas candidatas según Spearman:\")\n",
    "for metric, criteria_dict in dict_spearman.items():\n",
    "    for criteria, result in criteria_dict.items():\n",
    "        rho, p = result['rho'], result['p']\n",
    "        if abs(rho) >= SPEARMAN_THRESH and p < PVAL_THRESH:\n",
    "            print(f\"✅ {metric} - {criteria}: rho = {rho:.3f}, p = {p:.3f}\")\n",
    "            good_spearman.setdefault(metric, {})[criteria] = {'rho': rho, 'p': p}\n",
    "\n",
    "print(\"\\n📊 Métricas candidatas según Kendall:\")\n",
    "for metric, criteria_dict in dict_kendall.items():\n",
    "    for criteria, result in criteria_dict.items():\n",
    "        tau, p = result['tau'], result['p']\n",
    "        if abs(tau) >= KENDALL_THRESH and p < PVAL_THRESH:\n",
    "            print(f\"✅ {metric} - {criteria}: tau = {tau:.3f}, p = {p:.3f}\")\n",
    "            good_kendall.setdefault(metric, {})[criteria] = {'tau': tau, 'p': p}\n"
   ]
  },
  {
   "cell_type": "markdown",
   "metadata": {},
   "source": [
    "### We cross Spearman and Kendall to find coincidences"
   ]
  },
  {
   "cell_type": "code",
   "execution_count": 85,
   "metadata": {},
   "outputs": [
    {
     "name": "stdout",
     "output_type": "stream",
     "text": [
      "\n",
      "🔁 Coincidencias entre Spearman y Kendall:\n",
      "✅ Time_to_Goal - unobtrusiveness: rho = -0.463, tau = -0.366\n",
      "✅ Time_to_Goal - smoothness: rho = -0.467, tau = -0.310\n",
      "✅ Time_to_Goal - avoidance foresight: rho = -0.452, tau = -0.320\n",
      "✅ Social_Work_per_second - unobtrusiveness: rho = 0.469, tau = 0.330\n",
      "✅ Proxemics_intimate_space_occupancy - unobtrusiveness: rho = -0.775, tau = -0.582\n",
      "✅ Proxemics_intimate_space_occupancy - friendliness: rho = -0.627, tau = -0.451\n",
      "✅ Proxemics_intimate_space_occupancy - smoothness: rho = -0.552, tau = -0.352\n",
      "✅ Proxemics_intimate_space_occupancy - avoidance foresight: rho = -0.626, tau = -0.420\n",
      "✅ Proxemics_personal_space_occupancy - unobtrusiveness: rho = 0.509, tau = 0.366\n"
     ]
    }
   ],
   "source": [
    "# Encontrar coincidencias entre Spearman y Kendall\n",
    "consistent_metrics = {}\n",
    "\n",
    "print(\"\\n🔁 Coincidencias entre Spearman y Kendall:\")\n",
    "for metric in good_spearman:\n",
    "    if metric in good_kendall:\n",
    "        for criteria in good_spearman[metric]:\n",
    "            if criteria in good_kendall[metric]:\n",
    "                # Ambas pruebas coinciden\n",
    "                rho = good_spearman[metric][criteria]['rho']\n",
    "                tau = good_kendall[metric][criteria]['tau']\n",
    "                print(f\"✅ {metric} - {criteria}: rho = {rho:.3f}, tau = {tau:.3f}\")\n",
    "                consistent_metrics.setdefault(metric, {})[criteria] = {\n",
    "                    'rho': rho,\n",
    "                    'tau': tau,\n",
    "                    'spearman_p': good_spearman[metric][criteria]['p'],\n",
    "                    'kendall_p': good_kendall[metric][criteria]['p']\n",
    "                }\n",
    "\n",
    "# Si quieres ver todas las coincidencias juntas como diccionario:\n",
    "# import pprint; pprint.pprint(consistent_metrics)\n"
   ]
  },
  {
   "cell_type": "markdown",
   "metadata": {},
   "source": [
    "### Store the results in CSV"
   ]
  },
  {
   "cell_type": "code",
   "execution_count": 86,
   "metadata": {},
   "outputs": [
    {
     "name": "stdout",
     "output_type": "stream",
     "text": [
      "\n",
      "✅ Correlaciones consistentes ordenadas por fuerza de correlación y guardadas en 'correlaciones_consistentes.csv'\n"
     ]
    }
   ],
   "source": [
    "# We generate a CSV file with the results ordered by strength of correlation\n",
    "import pandas as pd\n",
    "\n",
    "# Paso 1: Convertir consistent_metrics en lista de filas\n",
    "rows = []\n",
    "for metric, crit_dict in consistent_metrics.items():\n",
    "    for criteria, vals in crit_dict.items():\n",
    "        strength = (abs(vals['rho']) + abs(vals['tau'])) / 2\n",
    "        rows.append({\n",
    "            'metric': metric,\n",
    "            'criteria': criteria,\n",
    "            'rho': vals['rho'],\n",
    "            'tau': vals['tau'],\n",
    "            'spearman_p': vals['spearman_p'],\n",
    "            'kendall_p': vals['kendall_p'],\n",
    "            'strength': strength\n",
    "        })\n",
    "\n",
    "# Paso 2: Crear DataFrame y ordenar por fuerza de correlación\n",
    "df_corr = pd.DataFrame(rows)\n",
    "df_corr_sorted = df_corr.sort_values(by='strength', ascending=False)\n",
    "\n",
    "# Paso 3: Guardar en CSV\n",
    "df_corr_sorted.to_csv(\"correlaciones_consistentes.csv\", index=False)\n",
    "\n",
    "print(\"\\n✅ Correlaciones consistentes ordenadas por fuerza de correlación y guardadas en 'correlaciones_consistentes.csv'\")\n"
   ]
  },
  {
   "cell_type": "markdown",
   "metadata": {},
   "source": [
    "### Generate a heatmap of the correlations"
   ]
  },
  {
   "cell_type": "code",
   "execution_count": 87,
   "metadata": {},
   "outputs": [
    {
     "name": "stderr",
     "output_type": "stream",
     "text": [
      "/tmp/ipykernel_118556/859502384.py:17: UserWarning: Glyph 128257 (\\N{CLOCKWISE RIGHTWARDS AND LEFTWARDS OPEN CIRCLE ARROWS}) missing from current font.\n",
      "  plt.tight_layout()\n",
      "/tmp/ipykernel_118556/859502384.py:20: UserWarning: Glyph 128257 (\\N{CLOCKWISE RIGHTWARDS AND LEFTWARDS OPEN CIRCLE ARROWS}) missing from current font.\n",
      "  plt.savefig(\"heatmap_correlaciones.png\", dpi=300)\n",
      "/home/robotics/.local/lib/python3.10/site-packages/IPython/core/pylabtools.py:170: UserWarning: Glyph 128257 (\\N{CLOCKWISE RIGHTWARDS AND LEFTWARDS OPEN CIRCLE ARROWS}) missing from current font.\n",
      "  fig.canvas.print_figure(bytes_io, **kw)\n"
     ]
    },
    {
     "data": {
      "image/png": "[encoded data removed]",
      "text/plain": [
       "<Figure size 1000x600 with 2 Axes>"
      ]
     },
     "metadata": {},
     "output_type": "display_data"
    }
   ],
   "source": [
    "# Generate a heatmap of the correlations\n",
    "import seaborn as sns\n",
    "import matplotlib.pyplot as plt\n",
    "\n",
    "# Pivot para formato tipo tabla (filas: métricas, columnas: criterios)\n",
    "heatmap_data = df_corr_sorted.pivot(index='metric', columns='criteria', values='strength')\n",
    "\n",
    "# Configurar el tamaño del gráfico\n",
    "plt.figure(figsize=(10, 6))\n",
    "\n",
    "# Crear el heatmap\n",
    "sns.heatmap(heatmap_data, annot=True, fmt=\".2f\", cmap=\"YlGnBu\", linewidths=0.5, cbar_kws={'label': 'avg correlation strength'})\n",
    "\n",
    "plt.title(\"🔁 Consistent correlations (Spearman + Kendall)\")\n",
    "plt.ylabel(\"Metric\")\n",
    "plt.xlabel(\"Human criteria\")\n",
    "plt.tight_layout()\n",
    "\n",
    "# Guardar el heatmap como imagen PNG (puedes cambiar el nombre o formato)\n",
    "plt.savefig(\"heatmap_correlaciones.png\", dpi=300)\n",
    "# Mostrar el heatmap\n",
    "plt.show()\n"
   ]
  },
  {
   "cell_type": "markdown",
   "metadata": {},
   "source": [
    "## Step 2: ORDINAL REGRESSION (ideal for Likert)\n",
    "\n",
    "But we should work with ordinal data (Likert 1-5).\n",
    "Since we are employing the average values (and normalizing the data in some cases), we do not use the ordinal ones, and we do not apply this.\n",
    "\n",
    "Instead--> LINEAR REGRESSION (continuous Likert) \n"
   ]
  },
  {
   "cell_type": "markdown",
   "metadata": {},
   "source": [
    "# Code for linear regression with statmodels\n",
    "\n",
    "- coef → cuánto cambia la valoración por unidad de cambio en la métrica.\n",
    "\n",
    "- P>|t| → si es < 0.05, se considera que esa métrica está estadísticamente relacionada con el criterio humano.\n",
    "\n",
    "- R-squared → qué tanto del criterio puede explicarse con las métricas (idealmente cercano a 1).\n",
    "\n",
    "- const → término independiente (intercepto).\n",
    "\n",
    "### Consejito:\n",
    "Si el modelo tiene R² bajo y muchos p-valores > 0.05, puede que haya mucho ruido, o que no todas las métricas sean relevantes.\n",
    "Puedes seleccionar solo métricas significativas o hacer regularización (Lasso, Ridge) si hay multicolinealidad."
   ]
  },
  {
   "cell_type": "code",
   "execution_count": 13,
   "metadata": {},
   "outputs": [
    {
     "name": "stdout",
     "output_type": "stream",
     "text": [
      "Defaulting to user installation because normal site-packages is not writeable\n",
      "Requirement already satisfied: statsmodels in /home/robotics/.local/lib/python3.10/site-packages (0.14.4)\n",
      "Requirement already satisfied: numpy<3,>=1.22.3 in /home/robotics/.local/lib/python3.10/site-packages (from statsmodels) (1.26.4)\n",
      "Requirement already satisfied: scipy!=1.9.2,>=1.8 in /home/robotics/.local/lib/python3.10/site-packages (from statsmodels) (1.13.1)\n",
      "Requirement already satisfied: pandas!=2.1.0,>=1.4 in /home/robotics/.local/lib/python3.10/site-packages (from statsmodels) (2.2.3)\n",
      "Requirement already satisfied: patsy>=0.5.6 in /home/robotics/.local/lib/python3.10/site-packages (from statsmodels) (1.0.1)\n",
      "Requirement already satisfied: packaging>=21.3 in /usr/lib/python3/dist-packages (from statsmodels) (21.3)\n",
      "Requirement already satisfied: python-dateutil>=2.8.2 in /home/robotics/.local/lib/python3.10/site-packages (from pandas!=2.1.0,>=1.4->statsmodels) (2.9.0.post0)\n",
      "Requirement already satisfied: pytz>=2020.1 in /usr/lib/python3/dist-packages (from pandas!=2.1.0,>=1.4->statsmodels) (2022.1)\n",
      "Requirement already satisfied: tzdata>=2022.7 in /home/robotics/.local/lib/python3.10/site-packages (from pandas!=2.1.0,>=1.4->statsmodels) (2025.1)\n",
      "Requirement already satisfied: six>=1.5 in /usr/lib/python3/dist-packages (from python-dateutil>=2.8.2->pandas!=2.1.0,>=1.4->statsmodels) (1.16.0)\n",
      "Note: you may need to restart the kernel to use updated packages.\n"
     ]
    }
   ],
   "source": [
    "%pip install statsmodels"
   ]
  },
  {
   "cell_type": "code",
   "execution_count": 88,
   "metadata": {},
   "outputs": [
    {
     "name": "stdout",
     "output_type": "stream",
     "text": [
      "\n",
      "📊 Regresión lineal para criterio: unobtrusiveness\n",
      "                            OLS Regression Results                            \n",
      "==============================================================================\n",
      "Dep. Variable:                      y   R-squared:                       0.778\n",
      "Model:                            OLS   Adj. R-squared:                  0.607\n",
      "Method:                 Least Squares   F-statistic:                     4.559\n",
      "Date:                Tue, 08 Apr 2025   Prob (F-statistic):            0.00638\n",
      "Time:                        17:03:28   Log-Likelihood:                -21.928\n",
      "No. Observations:                  24   AIC:                             65.86\n",
      "Df Residuals:                      13   BIC:                             78.81\n",
      "Df Model:                          10                                         \n",
      "Covariance Type:            nonrobust                                         \n",
      "======================================================================================================\n",
      "                                         coef    std err          t      P>|t|      [0.025      0.975]\n",
      "------------------------------------------------------------------------------------------------------\n",
      "const                                 -0.0010      0.002     -0.508      0.620      -0.005       0.003\n",
      "Time_to_Goal                           0.0230      0.029      0.793      0.442      -0.040       0.086\n",
      "Path_length                           -0.0407      0.325     -0.125      0.902      -0.742       0.660\n",
      "Cumulative_heading_changes            -0.0741      0.065     -1.135      0.277      -0.215       0.067\n",
      "Avg_robot_linear_speed                 9.4074      6.626      1.420      0.179      -4.906      23.721\n",
      "Social_Work                         9.155e-06   1.94e-05      0.472      0.645   -3.27e-05     5.1e-05\n",
      "Social_Work_per_second                 0.0001      0.001      0.256      0.802      -0.001       0.001\n",
      "Avg_min_distance_to_closest_person     0.7531      2.342      0.322      0.753      -4.307       5.813\n",
      "Proxemics_intimate_space_occupancy    -0.0045      0.016     -0.278      0.785      -0.040       0.031\n",
      "Proxemics_personal_space_occupancy     0.0252      0.020      1.263      0.229      -0.018       0.068\n",
      "Proxemics_social_space_occupancy       0.0036      0.064      0.057      0.956      -0.135       0.142\n",
      "Proxemics_public_space_occupancy      -0.1195      0.113     -1.060      0.308      -0.363       0.124\n",
      "==============================================================================\n",
      "Omnibus:                        2.908   Durbin-Watson:                   1.975\n",
      "Prob(Omnibus):                  0.234   Jarque-Bera (JB):                1.353\n",
      "Skew:                           0.414   Prob(JB):                        0.508\n",
      "Kurtosis:                       3.818   Cond. No.                     9.78e+19\n",
      "==============================================================================\n",
      "\n",
      "Notes:\n",
      "[1] Standard Errors assume that the covariance matrix of the errors is correctly specified.\n",
      "[2] The smallest eigenvalue is 2.28e-30. This might indicate that there are\n",
      "strong multicollinearity problems or that the design matrix is singular.\n",
      "\n",
      "📊 Regresión lineal para criterio: friendliness\n",
      "                            OLS Regression Results                            \n",
      "==============================================================================\n",
      "Dep. Variable:                      y   R-squared:                       0.653\n",
      "Model:                            OLS   Adj. R-squared:                  0.385\n",
      "Method:                 Least Squares   F-statistic:                     2.442\n",
      "Date:                Tue, 08 Apr 2025   Prob (F-statistic):             0.0669\n",
      "Time:                        17:03:28   Log-Likelihood:                -8.1036\n",
      "No. Observations:                  24   AIC:                             38.21\n",
      "Df Residuals:                      13   BIC:                             51.17\n",
      "Df Model:                          10                                         \n",
      "Covariance Type:            nonrobust                                         \n",
      "======================================================================================================\n",
      "                                         coef    std err          t      P>|t|      [0.025      0.975]\n",
      "------------------------------------------------------------------------------------------------------\n",
      "const                                  0.0003      0.001      0.302      0.767      -0.002       0.003\n",
      "Time_to_Goal                           0.0135      0.016      0.827      0.423      -0.022       0.049\n",
      "Path_length                            0.0220      0.182      0.121      0.906      -0.372       0.416\n",
      "Cumulative_heading_changes            -0.0340      0.037     -0.925      0.372      -0.113       0.045\n",
      "Avg_robot_linear_speed                 4.7128      3.724      1.265      0.228      -3.333      12.759\n",
      "Social_Work                         5.815e-06   1.09e-05      0.534      0.603   -1.77e-05    2.94e-05\n",
      "Social_Work_per_second              8.701e-05      0.000      0.306      0.764      -0.001       0.001\n",
      "Avg_min_distance_to_closest_person     1.8411      1.317      1.398      0.185      -1.003       4.686\n",
      "Proxemics_intimate_space_occupancy     0.0061      0.009      0.668      0.516      -0.014       0.026\n",
      "Proxemics_personal_space_occupancy     0.0219      0.011      1.950      0.073      -0.002       0.046\n",
      "Proxemics_social_space_occupancy      -0.0303      0.036     -0.839      0.417      -0.108       0.048\n",
      "Proxemics_public_space_occupancy       0.0341      0.063      0.538      0.599      -0.103       0.171\n",
      "==============================================================================\n",
      "Omnibus:                        0.084   Durbin-Watson:                   2.219\n",
      "Prob(Omnibus):                  0.959   Jarque-Bera (JB):                0.304\n",
      "Skew:                           0.048   Prob(JB):                        0.859\n",
      "Kurtosis:                       2.458   Cond. No.                     9.78e+19\n",
      "==============================================================================\n",
      "\n",
      "Notes:\n",
      "[1] Standard Errors assume that the covariance matrix of the errors is correctly specified.\n",
      "[2] The smallest eigenvalue is 2.28e-30. This might indicate that there are\n",
      "strong multicollinearity problems or that the design matrix is singular.\n",
      "\n",
      "📊 Regresión lineal para criterio: smoothness\n",
      "                            OLS Regression Results                            \n",
      "==============================================================================\n",
      "Dep. Variable:                      y   R-squared:                       0.677\n",
      "Model:                            OLS   Adj. R-squared:                  0.428\n",
      "Method:                 Least Squares   F-statistic:                     2.719\n",
      "Date:                Tue, 08 Apr 2025   Prob (F-statistic):             0.0471\n",
      "Time:                        17:03:28   Log-Likelihood:                -6.5821\n",
      "No. Observations:                  24   AIC:                             35.16\n",
      "Df Residuals:                      13   BIC:                             48.12\n",
      "Df Model:                          10                                         \n",
      "Covariance Type:            nonrobust                                         \n",
      "======================================================================================================\n",
      "                                         coef    std err          t      P>|t|      [0.025      0.975]\n",
      "------------------------------------------------------------------------------------------------------\n",
      "const                                  0.0011      0.001      1.063      0.307      -0.001       0.003\n",
      "Time_to_Goal                           0.0153      0.015      0.996      0.337      -0.018       0.048\n",
      "Path_length                           -0.0682      0.171     -0.398      0.697      -0.438       0.302\n",
      "Cumulative_heading_changes            -0.0336      0.034     -0.976      0.347      -0.108       0.041\n",
      "Avg_robot_linear_speed                 2.9786      3.496      0.852      0.410      -4.573      10.530\n",
      "Social_Work                        -1.105e-05   1.02e-05     -1.081      0.300   -3.31e-05     1.1e-05\n",
      "Social_Work_per_second                 0.0006      0.000      2.138      0.052   -6.01e-06       0.001\n",
      "Avg_min_distance_to_closest_person     0.9949      1.236      0.805      0.435      -1.675       3.665\n",
      "Proxemics_intimate_space_occupancy     0.0169      0.009      1.971      0.070      -0.002       0.035\n",
      "Proxemics_personal_space_occupancy     0.0253      0.011      2.397      0.032       0.002       0.048\n",
      "Proxemics_social_space_occupancy       0.0005      0.034      0.014      0.989      -0.073       0.074\n",
      "Proxemics_public_space_occupancy       0.0625      0.059      1.051      0.313      -0.066       0.191\n",
      "==============================================================================\n",
      "Omnibus:                        1.450   Durbin-Watson:                   2.298\n",
      "Prob(Omnibus):                  0.484   Jarque-Bera (JB):                1.312\n",
      "Skew:                           0.494   Prob(JB):                        0.519\n",
      "Kurtosis:                       2.421   Cond. No.                     9.78e+19\n",
      "==============================================================================\n",
      "\n",
      "Notes:\n",
      "[1] Standard Errors assume that the covariance matrix of the errors is correctly specified.\n",
      "[2] The smallest eigenvalue is 2.28e-30. This might indicate that there are\n",
      "strong multicollinearity problems or that the design matrix is singular.\n",
      "\n",
      "📊 Regresión lineal para criterio: avoidance foresight\n",
      "                            OLS Regression Results                            \n",
      "==============================================================================\n",
      "Dep. Variable:                      y   R-squared:                       0.693\n",
      "Model:                            OLS   Adj. R-squared:                  0.457\n",
      "Method:                 Least Squares   F-statistic:                     2.937\n",
      "Date:                Tue, 08 Apr 2025   Prob (F-statistic):             0.0361\n",
      "Time:                        17:03:28   Log-Likelihood:                -8.2802\n",
      "No. Observations:                  24   AIC:                             38.56\n",
      "Df Residuals:                      13   BIC:                             51.52\n",
      "Df Model:                          10                                         \n",
      "Covariance Type:            nonrobust                                         \n",
      "======================================================================================================\n",
      "                                         coef    std err          t      P>|t|      [0.025      0.975]\n",
      "------------------------------------------------------------------------------------------------------\n",
      "const                                  0.0005      0.001      0.473      0.644      -0.002       0.003\n",
      "Time_to_Goal                           0.0077      0.016      0.469      0.647      -0.028       0.043\n",
      "Path_length                            0.0555      0.184      0.302      0.767      -0.342       0.453\n",
      "Cumulative_heading_changes            -0.0457      0.037     -1.237      0.238      -0.126       0.034\n",
      "Avg_robot_linear_speed                 5.2619      3.752      1.402      0.184      -2.844      13.367\n",
      "Social_Work                         1.897e-06    1.1e-05      0.173      0.865   -2.18e-05    2.56e-05\n",
      "Social_Work_per_second                 0.0002      0.000      0.822      0.426      -0.000       0.001\n",
      "Avg_min_distance_to_closest_person     1.7554      1.326      1.323      0.208      -1.110       4.621\n",
      "Proxemics_intimate_space_occupancy     0.0052      0.009      0.566      0.581      -0.015       0.025\n",
      "Proxemics_personal_space_occupancy     0.0213      0.011      1.880      0.083      -0.003       0.046\n",
      "Proxemics_social_space_occupancy      -0.0307      0.036     -0.844      0.414      -0.109       0.048\n",
      "Proxemics_public_space_occupancy       0.0544      0.064      0.852      0.410      -0.084       0.192\n",
      "==============================================================================\n",
      "Omnibus:                        0.302   Durbin-Watson:                   2.472\n",
      "Prob(Omnibus):                  0.860   Jarque-Bera (JB):                0.474\n",
      "Skew:                           0.063   Prob(JB):                        0.789\n",
      "Kurtosis:                       2.323   Cond. No.                     9.78e+19\n",
      "==============================================================================\n",
      "\n",
      "Notes:\n",
      "[1] Standard Errors assume that the covariance matrix of the errors is correctly specified.\n",
      "[2] The smallest eigenvalue is 2.28e-30. This might indicate that there are\n",
      "strong multicollinearity problems or that the design matrix is singular.\n"
     ]
    }
   ],
   "source": [
    "import statsmodels.api as sm\n",
    "import pandas as pd\n",
    "\n",
    "# Nombres opcionales\n",
    "criteria_names = criterias\n",
    "metrics_names = metrics\n",
    "\n",
    "# Convertimos X a DataFrame para claridad en nombres de variables\n",
    "X = pd.DataFrame(all_lab_QM_array, columns=metrics_names)\n",
    "\n",
    "for i, crit in enumerate(criteria_names):\n",
    "    y = survey_array_avg[:, i]\n",
    "\n",
    "    # Añadimos intercepto manualmente\n",
    "    X_with_const = sm.add_constant(X)\n",
    "\n",
    "    model = sm.OLS(y, X_with_const)\n",
    "    result = model.fit()\n",
    "\n",
    "    print(f\"\\n📊 Regresión lineal para criterio: {crit}\")\n",
    "    print(result.summary())\n"
   ]
  },
  {
   "cell_type": "markdown",
   "metadata": {},
   "source": [
    "El siguiente script will do:\n",
    "\n",
    "- Ajustará una regresión lineal con todas las métricas.\n",
    "\n",
    "- Revisará los p-valores de cada coeficiente.\n",
    "\n",
    "- Filtrará solo las métricas significativas (p < 0.05).\n",
    "\n",
    "- Ajustará un nuevo modelo solo con esas métricas.\n",
    "\n",
    "- Mostrará un resumen limpio del resultado final y lo guardará en un archivo csv."
   ]
  },
  {
   "cell_type": "code",
   "execution_count": 89,
   "metadata": {},
   "outputs": [
    {
     "name": "stdout",
     "output_type": "stream",
     "text": [
      "\n",
      "📊 Regresión para 'unobtrusiveness' con métricas significativas:\n",
      "⚠️ No hay métricas significativas con p < 0.05\n",
      "\n",
      "📊 Regresión para 'friendliness' con métricas significativas:\n",
      "⚠️ No hay métricas significativas con p < 0.05\n",
      "\n",
      "📊 Regresión para 'smoothness' con métricas significativas:\n",
      "                            OLS Regression Results                            \n",
      "==============================================================================\n",
      "Dep. Variable:                      y   R-squared:                       0.006\n",
      "Model:                            OLS   Adj. R-squared:                 -0.039\n",
      "Method:                 Least Squares   F-statistic:                    0.1329\n",
      "Date:                Tue, 08 Apr 2025   Prob (F-statistic):              0.719\n",
      "Time:                        17:03:32   Log-Likelihood:                -20.054\n",
      "No. Observations:                  24   AIC:                             44.11\n",
      "Df Residuals:                      22   BIC:                             46.47\n",
      "Df Model:                           1                                         \n",
      "Covariance Type:            nonrobust                                         \n",
      "======================================================================================================\n",
      "                                         coef    std err          t      P>|t|      [0.025      0.975]\n",
      "------------------------------------------------------------------------------------------------------\n",
      "const                                  2.9079      0.269     10.819      0.000       2.350       3.465\n",
      "Proxemics_personal_space_occupancy     0.0022      0.006      0.365      0.719      -0.010       0.015\n",
      "==============================================================================\n",
      "Omnibus:                        1.062   Durbin-Watson:                   2.349\n",
      "Prob(Omnibus):                  0.588   Jarque-Bera (JB):                0.970\n",
      "Skew:                           0.308   Prob(JB):                        0.616\n",
      "Kurtosis:                       2.232   Cond. No.                         101.\n",
      "==============================================================================\n",
      "\n",
      "Notes:\n",
      "[1] Standard Errors assume that the covariance matrix of the errors is correctly specified.\n",
      "\n",
      "📊 Regresión para 'avoidance foresight' con métricas significativas:\n",
      "⚠️ No hay métricas significativas con p < 0.05\n",
      "\n",
      "✅ Resultados de regresión guardados en 'regression_results.csv'\n"
     ]
    }
   ],
   "source": [
    "import statsmodels.api as sm\n",
    "import pandas as pd\n",
    "\n",
    "# Nombres\n",
    "# Nombres opcionales\n",
    "criteria_names = criterias\n",
    "metrics_names = metrics\n",
    "\n",
    "results_list = []\n",
    "\n",
    "# DataFrame con nombres\n",
    "X = pd.DataFrame(all_lab_QM_array, columns=metrics_names)\n",
    "\n",
    "for i, crit in enumerate(criteria_names):\n",
    "    y = survey_array_avg[:, i]\n",
    "\n",
    "    # Primer modelo con todas las métricas\n",
    "    X_with_const = sm.add_constant(X)\n",
    "    model_full = sm.OLS(y, X_with_const).fit()\n",
    "\n",
    "    # Filtrar métricas con p < 0.05\n",
    "    significant_vars = model_full.pvalues[model_full.pvalues < 0.05].index\n",
    "    significant_vars = significant_vars.drop('const', errors='ignore')\n",
    "\n",
    "    print(f\"\\n📊 Regresión para '{crit}' con métricas significativas:\")\n",
    "    if len(significant_vars) == 0:\n",
    "        print(\"⚠️ No hay métricas significativas con p < 0.05\")\n",
    "    else:\n",
    "        # Crear nuevo modelo con solo las variables significativas\n",
    "        X_sig = sm.add_constant(X[significant_vars])\n",
    "        model_sig = sm.OLS(y, X_sig).fit()\n",
    "        print(model_sig.summary())\n",
    "\n",
    "        # Guardar coeficientes y p-valores\n",
    "        for var in significant_vars:\n",
    "            results_list.append({\n",
    "                'criterion': crit,\n",
    "                'metric': var,\n",
    "                'coef': model_sig.params[var],\n",
    "                'p_value': model_sig.pvalues[var]\n",
    "            })\n",
    "\n",
    "if(len(results_list) > 0):\n",
    "    # Convertir a DataFrame\n",
    "    results_df = pd.DataFrame(results_list)\n",
    "    # Guardar en CSV\n",
    "    results_df.to_csv(\"regression_results.csv\", index=False)\n",
    "    print(\"\\n✅ Resultados de regresión guardados en 'regression_results.csv'\")\n"
   ]
  },
  {
   "cell_type": "markdown",
   "metadata": {},
   "source": [
    "Plot the importance of the metrics (absolute coefficient)"
   ]
  },
  {
   "cell_type": "code",
   "execution_count": 90,
   "metadata": {},
   "outputs": [
    {
     "data": {
      "image/png": "[encoded data removed]",
      "text/plain": [
       "<Figure size 1000x600 with 1 Axes>"
      ]
     },
     "metadata": {},
     "output_type": "display_data"
    },
    {
     "name": "stdout",
     "output_type": "stream",
     "text": [
      "📷 Gráfico guardado como 'importancia_metricas.png'\n"
     ]
    }
   ],
   "source": [
    "import seaborn as sns\n",
    "import matplotlib.pyplot as plt\n",
    "\n",
    "# Asegúrate de tener df_results del bloque anterior\n",
    "if(len(results_list) > 0):\n",
    "    # Creamos columna para importancia (valor absoluto del coeficiente)\n",
    "    results_df['importance'] = results_df['coef'].abs()\n",
    "\n",
    "    # Hacemos una gráfica por criterio\n",
    "    plt.figure(figsize=(10, 6))\n",
    "    sns.barplot(data=results_df, x='importance', y='metric', hue='criterion', dodge=True)\n",
    "\n",
    "    plt.title(\"Relevance of the significant metrics per criteria (absolute coefficients)\")\n",
    "    plt.xlabel(\"Importance (|coef|)\")\n",
    "    plt.ylabel(\"Metric\")\n",
    "    plt.legend(title=\"Human criteria\", bbox_to_anchor=(1.05, 1), loc='upper left')\n",
    "    plt.tight_layout()\n",
    "    plt.savefig(\"importancia_metricas.png\", dpi=300)\n",
    "    plt.show()\n",
    "\n",
    "    print(\"📷 Gráfico guardado como 'importancia_metricas.png'\")\n",
    "else:\n",
    "    print(\"⚠️ No hay métricas significativas para graficar.\")\n"
   ]
  }
 ],
 "metadata": {
  "kernelspec": {
   "display_name": "Python 3",
   "language": "python",
   "name": "python3"
  },
  "language_info": {
   "codemirror_mode": {
    "name": "ipython",
    "version": 3
   },
   "file_extension": ".py",
   "mimetype": "text/x-python",
   "name": "python",
   "nbconvert_exporter": "python",
   "pygments_lexer": "ipython3",
   "version": "3.10.12"
  }
 },
 "nbformat": 4,
 "nbformat_minor": 2
}
